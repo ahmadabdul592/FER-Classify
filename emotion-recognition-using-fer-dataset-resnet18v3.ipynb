{
 "cells": [
  {
   "cell_type": "markdown",
   "id": "a4f30824",
   "metadata": {
    "id": "Tb4n9_cjU4p5",
    "papermill": {
     "duration": 0.007481,
     "end_time": "2025-05-17T20:59:05.228024",
     "exception": false,
     "start_time": "2025-05-17T20:59:05.220543",
     "status": "completed"
    },
    "tags": []
   },
   "source": [
    "# Start"
   ]
  },
  {
   "cell_type": "markdown",
   "id": "1213507f",
   "metadata": {
    "papermill": {
     "duration": 0.006153,
     "end_time": "2025-05-17T20:59:05.240759",
     "exception": false,
     "start_time": "2025-05-17T20:59:05.234606",
     "status": "completed"
    },
    "tags": []
   },
   "source": [
    "In v1, we split the data into our training and validation sets, created our dataloaders, applied transformations, and trained a model.\n",
    "\n",
    "But the model was overfitting, so in version 2, we implemented auto-stopping to avoid it. In addition, we performed a number of optimizations that was missing in version 1, like training functions, better classification layers for the neural network, learning rate finder, etc.\n",
    "\n",
    "The accuracy peaked at 67% in version 2. Next, we will try to increase that accuracy by using more complicated final layers, slightly higher dropout rates, more advanced transformations, possibly handle class imbalance, use test time augmentation, etc.\n",
    "\n",
    "This version (version 3) will focus on the effect of using more complicated final layers and slightly higher dropout rates."
   ]
  },
  {
   "cell_type": "code",
   "execution_count": 1,
   "id": "85871f4e",
   "metadata": {
    "execution": {
     "iopub.execute_input": "2025-05-17T20:59:05.254358Z",
     "iopub.status.busy": "2025-05-17T20:59:05.254098Z",
     "iopub.status.idle": "2025-05-17T20:59:17.083410Z",
     "shell.execute_reply": "2025-05-17T20:59:17.082790Z"
    },
    "id": "gWXSc8bpSPXB",
    "papermill": {
     "duration": 11.837744,
     "end_time": "2025-05-17T20:59:17.084841",
     "exception": false,
     "start_time": "2025-05-17T20:59:05.247097",
     "status": "completed"
    },
    "tags": []
   },
   "outputs": [],
   "source": [
    "import numpy as np\n",
    "import pandas as pd\n",
    "import matplotlib.pyplot as plt\n",
    "import seaborn as sns\n",
    "import torch\n",
    "\n",
    "from torchvision import datasets\n",
    "from torch.utils.data import DataLoader, random_split\n",
    "from torch import nn, optim\n",
    "from torch.nn import functional as F\n",
    "\n",
    "from typing import Dict, List, Tuple, Any\n",
    "from tqdm.auto import tqdm\n",
    "from copy import deepcopy"
   ]
  },
  {
   "cell_type": "code",
   "execution_count": 2,
   "id": "7bd66b05",
   "metadata": {
    "execution": {
     "iopub.execute_input": "2025-05-17T20:59:17.099452Z",
     "iopub.status.busy": "2025-05-17T20:59:17.098731Z",
     "iopub.status.idle": "2025-05-17T20:59:17.118828Z",
     "shell.execute_reply": "2025-05-17T20:59:17.117661Z"
    },
    "papermill": {
     "duration": 0.028612,
     "end_time": "2025-05-17T20:59:17.120384",
     "exception": false,
     "start_time": "2025-05-17T20:59:17.091772",
     "status": "completed"
    },
    "tags": []
   },
   "outputs": [],
   "source": [
    "# for torchinfo\n",
    "try:\n",
    "    from torchinfo import summary\n",
    "except:\n",
    "    print(\"[INFO] Couldn't find torchinfo... installing it.\")\n",
    "    !pip install -q torchinfo\n",
    "    from torchinfo import summary"
   ]
  },
  {
   "cell_type": "code",
   "execution_count": 3,
   "id": "b0920369",
   "metadata": {
    "execution": {
     "iopub.execute_input": "2025-05-17T20:59:17.136553Z",
     "iopub.status.busy": "2025-05-17T20:59:17.136352Z",
     "iopub.status.idle": "2025-05-17T20:59:17.193836Z",
     "shell.execute_reply": "2025-05-17T20:59:17.193210Z"
    },
    "papermill": {
     "duration": 0.0669,
     "end_time": "2025-05-17T20:59:17.194852",
     "exception": false,
     "start_time": "2025-05-17T20:59:17.127952",
     "status": "completed"
    },
    "tags": []
   },
   "outputs": [
    {
     "data": {
      "text/plain": [
       "'cuda'"
      ]
     },
     "execution_count": 3,
     "metadata": {},
     "output_type": "execute_result"
    }
   ],
   "source": [
    "# for device agnostic code\n",
    "device = \"cuda\" if torch.cuda.is_available() else \"cpu\"\n",
    "device"
   ]
  },
  {
   "cell_type": "markdown",
   "id": "8b0cc3bb",
   "metadata": {
    "id": "0ZAf9gKtVNZX",
    "papermill": {
     "duration": 0.006328,
     "end_time": "2025-05-17T20:59:17.207948",
     "exception": false,
     "start_time": "2025-05-17T20:59:17.201620",
     "status": "completed"
    },
    "tags": []
   },
   "source": [
    "# Get the dataset from Kaggle"
   ]
  },
  {
   "cell_type": "markdown",
   "id": "d4c7ff0f",
   "metadata": {
    "id": "b0wxW4iNZ_41",
    "papermill": {
     "duration": 0.006169,
     "end_time": "2025-05-17T20:59:17.220492",
     "exception": false,
     "start_time": "2025-05-17T20:59:17.214323",
     "status": "completed"
    },
    "tags": []
   },
   "source": [
    "Loading the full training data and taking a peek at one of them:"
   ]
  },
  {
   "cell_type": "code",
   "execution_count": 4,
   "id": "7c9e5296",
   "metadata": {
    "execution": {
     "iopub.execute_input": "2025-05-17T20:59:17.234072Z",
     "iopub.status.busy": "2025-05-17T20:59:17.233831Z",
     "iopub.status.idle": "2025-05-17T20:59:35.598319Z",
     "shell.execute_reply": "2025-05-17T20:59:35.597633Z"
    },
    "id": "HJmMRjFCVJ9n",
    "outputId": "416040d5-d480-405d-bcca-26af5eac6503",
    "papermill": {
     "duration": 18.372726,
     "end_time": "2025-05-17T20:59:35.599581",
     "exception": false,
     "start_time": "2025-05-17T20:59:17.226855",
     "status": "completed"
    },
    "tags": []
   },
   "outputs": [
    {
     "data": {
      "image/jpeg": "[encoded data removed]",
      "image/png": "[encoded data removed]",
      "text/plain": [
       "<PIL.Image.Image image mode=RGB size=48x48>"
      ]
     },
     "execution_count": 4,
     "metadata": {},
     "output_type": "execute_result"
    }
   ],
   "source": [
    "full_data = datasets.ImageFolder('/kaggle/input/train')\n",
    "full_data[0][0]"
   ]
  },
  {
   "cell_type": "code",
   "execution_count": 5,
   "id": "0807f56c",
   "metadata": {
    "execution": {
     "iopub.execute_input": "2025-05-17T20:59:35.614105Z",
     "iopub.status.busy": "2025-05-17T20:59:35.613842Z",
     "iopub.status.idle": "2025-05-17T20:59:35.618409Z",
     "shell.execute_reply": "2025-05-17T20:59:35.617871Z"
    },
    "id": "L2eT3kfuYqQV",
    "outputId": "fc8a9f07-6f8f-45ab-b6df-38a6dbd49f98",
    "papermill": {
     "duration": 0.012898,
     "end_time": "2025-05-17T20:59:35.619502",
     "exception": false,
     "start_time": "2025-05-17T20:59:35.606604",
     "status": "completed"
    },
    "tags": []
   },
   "outputs": [
    {
     "data": {
      "text/plain": [
       "'angry'"
      ]
     },
     "execution_count": 5,
     "metadata": {},
     "output_type": "execute_result"
    }
   ],
   "source": [
    "full_data.classes[full_data[0][1]]"
   ]
  },
  {
   "cell_type": "markdown",
   "id": "c15ae911",
   "metadata": {
    "id": "3NGOdYD2aVlW",
    "papermill": {
     "duration": 0.006345,
     "end_time": "2025-05-17T20:59:35.632484",
     "exception": false,
     "start_time": "2025-05-17T20:59:35.626139",
     "status": "completed"
    },
    "tags": []
   },
   "source": [
    "Certainly looks angry to me."
   ]
  },
  {
   "cell_type": "markdown",
   "id": "4b725311",
   "metadata": {
    "id": "Hd4TXka9aYEK",
    "papermill": {
     "duration": 0.006328,
     "end_time": "2025-05-17T20:59:35.645464",
     "exception": false,
     "start_time": "2025-05-17T20:59:35.639136",
     "status": "completed"
    },
    "tags": []
   },
   "source": [
    "# Split the data into train and validation sets and apply transformations"
   ]
  },
  {
   "cell_type": "markdown",
   "id": "7ef338f8",
   "metadata": {
    "id": "EH1-2fVBaav8",
    "papermill": {
     "duration": 0.006336,
     "end_time": "2025-05-17T20:59:35.658314",
     "exception": false,
     "start_time": "2025-05-17T20:59:35.651978",
     "status": "completed"
    },
    "tags": []
   },
   "source": [
    "The dataset doesn't come with a validation set, but it's relatively easy to do it ourselves.\n",
    "\n",
    "We know that the validation set has to be balanced and properly representative of the dataset, so we can randomly select a percentage of images from each label (folder) and then concatenate appropriately to form our validation set and new training set"
   ]
  },
  {
   "cell_type": "markdown",
   "id": "9b44c2a8",
   "metadata": {
    "id": "Ts58-CdNbV9i",
    "papermill": {
     "duration": 0.006375,
     "end_time": "2025-05-17T20:59:35.671228",
     "exception": false,
     "start_time": "2025-05-17T20:59:35.664853",
     "status": "completed"
    },
    "tags": []
   },
   "source": [
    "I will create one of two functions for this:\n",
    "\n",
    "- One to split the dataset, and/or\n",
    "- one to save them in a new folder"
   ]
  },
  {
   "cell_type": "markdown",
   "id": "3cc4f888",
   "metadata": {
    "id": "iOONqu3xbM1d",
    "papermill": {
     "duration": 0.006412,
     "end_time": "2025-05-17T20:59:35.684099",
     "exception": false,
     "start_time": "2025-05-17T20:59:35.677687",
     "status": "completed"
    },
    "tags": []
   },
   "source": [
    "1. fer_train_val:\n",
    "\n",
    "Inputs:\n",
    "- path (path containing the training dataset)\n",
    "- valid_pct (percentage of data to use as validation)\n",
    "- transforms (any transforms needed)\n",
    "\n",
    "\n",
    "Process:\n",
    "\n",
    "- Read in the training data and create the dataset\n",
    "- Create datasets for each class\n",
    "- Store datasets in a list\n",
    "- Iterate over the list of datasets\n",
    "- In each iteration:\n",
    "  - compute the train/val sizes\n",
    "  - randomly select the appropriate number of images for the sets\n",
    "  - add the train set to a train list, and the val set to a val list\n",
    "\n",
    "- At the end, concatenate the train set into a full train dataset, and the val set into a full val set\n",
    "\n",
    "Things to consider:\n",
    "- Exporting the data into a folder for download so as to reuse the same data and/or\n",
    "- setting a random seed to ensure reusability (done)"
   ]
  },
  {
   "cell_type": "markdown",
   "id": "49ada74e",
   "metadata": {
    "id": "17Usq-xRz2bV",
    "papermill": {
     "duration": 0.006377,
     "end_time": "2025-05-17T20:59:35.697343",
     "exception": false,
     "start_time": "2025-05-17T20:59:35.690966",
     "status": "completed"
    },
    "tags": []
   },
   "source": [
    "This is a handy function I wrote to count the files in a directory. I especially used it in debugging the validation split function."
   ]
  },
  {
   "cell_type": "code",
   "execution_count": 6,
   "id": "3c977bca",
   "metadata": {
    "execution": {
     "iopub.execute_input": "2025-05-17T20:59:35.711972Z",
     "iopub.status.busy": "2025-05-17T20:59:35.711305Z",
     "iopub.status.idle": "2025-05-17T20:59:35.715271Z",
     "shell.execute_reply": "2025-05-17T20:59:35.714715Z"
    },
    "id": "RS4nBX37iP8O",
    "papermill": {
     "duration": 0.012442,
     "end_time": "2025-05-17T20:59:35.716277",
     "exception": false,
     "start_time": "2025-05-17T20:59:35.703835",
     "status": "completed"
    },
    "tags": []
   },
   "outputs": [],
   "source": [
    "# create a function to count all files in a directory\n",
    "def dir_len(path):\n",
    "  \"\"\"Counts all files in a directory.\"\"\"\n",
    "  total_files = 0\n",
    "  for dirpath, dirnames, filenames in os.walk(path):\n",
    "    total_files += len(filenames)\n",
    "  return total_files"
   ]
  },
  {
   "cell_type": "markdown",
   "id": "75ed1e7c",
   "metadata": {
    "id": "-1FmlUYwz_H9",
    "papermill": {
     "duration": 0.04881,
     "end_time": "2025-05-17T20:59:35.771573",
     "exception": false,
     "start_time": "2025-05-17T20:59:35.722763",
     "status": "completed"
    },
    "tags": []
   },
   "source": [
    "Here's the validation split function. It takes in the three parameters as laid out before and executes the steps.\n",
    "\n",
    "One thing to note is that `transforms` is expected to be a list of transformations, with the first index being the train transformation and the second being the validation transformation."
   ]
  },
  {
   "cell_type": "code",
   "execution_count": 7,
   "id": "a9cb673d",
   "metadata": {
    "execution": {
     "iopub.execute_input": "2025-05-17T20:59:35.786285Z",
     "iopub.status.busy": "2025-05-17T20:59:35.785989Z",
     "iopub.status.idle": "2025-05-17T20:59:35.792987Z",
     "shell.execute_reply": "2025-05-17T20:59:35.792437Z"
    },
    "id": "fHiZmPuoaUSQ",
    "papermill": {
     "duration": 0.015612,
     "end_time": "2025-05-17T20:59:35.794011",
     "exception": false,
     "start_time": "2025-05-17T20:59:35.778399",
     "status": "completed"
    },
    "tags": []
   },
   "outputs": [],
   "source": [
    "from torchvision.datasets import ImageFolder\n",
    "from torch.utils.data import Subset, random_split, Dataset, ConcatDataset\n",
    "from collections import defaultdict\n",
    "import os\n",
    "\n",
    "def fer_train_val(path, valid_pct, transforms):\n",
    "\n",
    "  # Step 1: Read data and create dataset\n",
    "  dataset = ImageFolder(root=path, transform=transforms[0])\n",
    "\n",
    "  # Step 2: Create datasets for each class:\n",
    "\n",
    "  # - Mapping from class name to class index\n",
    "  class_to_idx = dataset.class_to_idx\n",
    "  idx_to_class = {v: k for k, v in class_to_idx.items()}\n",
    "\n",
    "  # - Group indices by class (using string keys)\n",
    "  class_indices = defaultdict(list)\n",
    "  for i, (_, label) in enumerate(dataset.samples):\n",
    "      class_indices[str(label)].append(i)\n",
    "\n",
    "  # - Create a separate dataset for each class\n",
    "  class_datasets = {}\n",
    "  for class_idx_str, indices in class_indices.items():\n",
    "      class_idx = int(class_idx_str)\n",
    "      class_name = idx_to_class[class_idx]\n",
    "      class_datasets[class_name] = Subset(dataset, indices)\n",
    "\n",
    "  # Step 3: Store datasets in a list\n",
    "  dataset_list = list(class_datasets.values())\n",
    "\n",
    "  train_datasets = list()\n",
    "  val_datasets = list()\n",
    "\n",
    "  generator = torch.Generator().manual_seed(42) # setting the random seed\n",
    "\n",
    "  # Step 4: Loop through dataset_list and compute the validation and training sets\n",
    "  for class_ds in dataset_list:\n",
    "    val_size = int(valid_pct * len(class_ds))  # valid_pct% for validation\n",
    "    train_size = len(class_ds) - val_size  # remaining% for training\n",
    "    train_dataset, val_dataset = random_split(class_ds, [train_size, val_size], generator=generator)\n",
    "    train_datasets.append(train_dataset)\n",
    "    val_datasets.append(val_dataset)\n",
    "\n",
    "  # Step 5: Concatenate the datasets into train and val sets\n",
    "  train = ConcatDataset(train_datasets)\n",
    "  val = ConcatDataset(val_datasets)\n",
    "  train.transform = transforms[0]\n",
    "  val.transform = transforms[1]\n",
    "\n",
    "  return train, val\n"
   ]
  },
  {
   "cell_type": "markdown",
   "id": "c7446f75",
   "metadata": {
    "id": "oa1mBHtB1nL-",
    "papermill": {
     "duration": 0.006545,
     "end_time": "2025-05-17T20:59:35.807152",
     "exception": false,
     "start_time": "2025-05-17T20:59:35.800607",
     "status": "completed"
    },
    "tags": []
   },
   "source": [
    "Initialize the transformations for the training and validation sets:"
   ]
  },
  {
   "cell_type": "code",
   "execution_count": 8,
   "id": "09ba2386",
   "metadata": {
    "execution": {
     "iopub.execute_input": "2025-05-17T20:59:35.821027Z",
     "iopub.status.busy": "2025-05-17T20:59:35.820842Z",
     "iopub.status.idle": "2025-05-17T20:59:35.825577Z",
     "shell.execute_reply": "2025-05-17T20:59:35.825073Z"
    },
    "id": "aDgSm_IV1Bgl",
    "papermill": {
     "duration": 0.012907,
     "end_time": "2025-05-17T20:59:35.826604",
     "exception": false,
     "start_time": "2025-05-17T20:59:35.813697",
     "status": "completed"
    },
    "tags": []
   },
   "outputs": [],
   "source": [
    "import torchvision.transforms as T\n",
    "\n",
    "train_transforms = T.Compose([\n",
    "    T.Grayscale(num_output_channels=1),\n",
    "    T.RandomCrop(48, padding=4), # Random crop with padding\n",
    "    T.RandomHorizontalFlip(),     # Randomly flip the image horizontally\n",
    "    T.RandomRotation(degrees=10), # Randomly rotate the image by ±10 degrees\n",
    "    # T.ColorJitter(brightness=0.2, contrast=0.2), # Optional: add brightness/contrast jitter\n",
    "    T.ToTensor(),                 # Convert to PyTorch tensor (scales to 0-1)\n",
    "    T.Normalize(mean=[0.5], std=[0.5]) # Normalize tensor\n",
    "])\n",
    "\n",
    "val_transforms = T.Compose([\n",
    "    T.Grayscale(num_output_channels=1),\n",
    "    T.CenterCrop(48), # Center crop to the target size (if needed, otherwise just use Resize(48))\n",
    "    T.ToTensor(),     # Convert to PyTorch tensor (scales to 0-1)\n",
    "    T.Normalize(mean=[0.5], std=[0.5]) # Normalize tensor\n",
    "])"
   ]
  },
  {
   "cell_type": "markdown",
   "id": "09c12e6a",
   "metadata": {
    "id": "sW10fWsi2qes",
    "papermill": {
     "duration": 0.006898,
     "end_time": "2025-05-17T20:59:35.840167",
     "exception": false,
     "start_time": "2025-05-17T20:59:35.833269",
     "status": "completed"
    },
    "tags": []
   },
   "source": [
    "Now, to initialize my training and validation sets:"
   ]
  },
  {
   "cell_type": "code",
   "execution_count": 9,
   "id": "732c849a",
   "metadata": {
    "execution": {
     "iopub.execute_input": "2025-05-17T20:59:35.853937Z",
     "iopub.status.busy": "2025-05-17T20:59:35.853766Z",
     "iopub.status.idle": "2025-05-17T20:59:46.022593Z",
     "shell.execute_reply": "2025-05-17T20:59:46.021763Z"
    },
    "id": "UPKavIG62k9F",
    "papermill": {
     "duration": 10.177387,
     "end_time": "2025-05-17T20:59:46.024093",
     "exception": false,
     "start_time": "2025-05-17T20:59:35.846706",
     "status": "completed"
    },
    "tags": []
   },
   "outputs": [],
   "source": [
    "train_data, val_data = fer_train_val('/kaggle/input/train', 0.2, [train_transforms,val_transforms])"
   ]
  },
  {
   "cell_type": "markdown",
   "id": "241d5bba",
   "metadata": {
    "id": "zjuCkXyVv4kk",
    "papermill": {
     "duration": 0.006767,
     "end_time": "2025-05-17T20:59:46.037883",
     "exception": false,
     "start_time": "2025-05-17T20:59:46.031116",
     "status": "completed"
    },
    "tags": []
   },
   "source": [
    "And create the dataloaders:"
   ]
  },
  {
   "cell_type": "code",
   "execution_count": 10,
   "id": "ff443355",
   "metadata": {
    "execution": {
     "iopub.execute_input": "2025-05-17T20:59:46.051805Z",
     "iopub.status.busy": "2025-05-17T20:59:46.051572Z",
     "iopub.status.idle": "2025-05-17T20:59:46.055509Z",
     "shell.execute_reply": "2025-05-17T20:59:46.054930Z"
    },
    "id": "1fwPPO9p3C-s",
    "papermill": {
     "duration": 0.012074,
     "end_time": "2025-05-17T20:59:46.056479",
     "exception": false,
     "start_time": "2025-05-17T20:59:46.044405",
     "status": "completed"
    },
    "tags": []
   },
   "outputs": [],
   "source": [
    "train_loader = DataLoader(\n",
    "    train_data,\n",
    "    batch_size=4,\n",
    "    shuffle=True,\n",
    "    num_workers=2,\n",
    "    pin_memory=True\n",
    ")\n",
    "\n",
    "val_loader = DataLoader(\n",
    "    val_data,\n",
    "    batch_size=4,\n",
    "    shuffle=True,\n",
    "    num_workers=2,\n",
    ")"
   ]
  },
  {
   "cell_type": "markdown",
   "id": "9d6df182",
   "metadata": {
    "id": "eJYMn2sR2PSo",
    "papermill": {
     "duration": 0.006384,
     "end_time": "2025-05-17T20:59:46.069600",
     "exception": false,
     "start_time": "2025-05-17T20:59:46.063216",
     "status": "completed"
    },
    "tags": []
   },
   "source": [
    "# Model Training - Resnet18"
   ]
  },
  {
   "cell_type": "markdown",
   "id": "36c23b91",
   "metadata": {
    "papermill": {
     "duration": 0.006604,
     "end_time": "2025-05-17T20:59:46.082788",
     "exception": false,
     "start_time": "2025-05-17T20:59:46.076184",
     "status": "completed"
    },
    "tags": []
   },
   "source": [
    "## Loading the model"
   ]
  },
  {
   "cell_type": "markdown",
   "id": "4d7cc35d",
   "metadata": {
    "id": "dvop5iKb6a0M",
    "papermill": {
     "duration": 0.006379,
     "end_time": "2025-05-17T20:59:46.095776",
     "exception": false,
     "start_time": "2025-05-17T20:59:46.089397",
     "status": "completed"
    },
    "tags": []
   },
   "source": [
    "Load the model:"
   ]
  },
  {
   "cell_type": "code",
   "execution_count": 11,
   "id": "9f426916",
   "metadata": {
    "execution": {
     "iopub.execute_input": "2025-05-17T20:59:46.110923Z",
     "iopub.status.busy": "2025-05-17T20:59:46.110722Z",
     "iopub.status.idle": "2025-05-17T20:59:46.992746Z",
     "shell.execute_reply": "2025-05-17T20:59:46.991833Z"
    },
    "id": "i3g3vftFwJ_-",
    "outputId": "7c7131dd-0459-47b7-f533-d8f008399738",
    "papermill": {
     "duration": 0.891761,
     "end_time": "2025-05-17T20:59:46.994414",
     "exception": false,
     "start_time": "2025-05-17T20:59:46.102653",
     "status": "completed"
    },
    "tags": []
   },
   "outputs": [
    {
     "name": "stderr",
     "output_type": "stream",
     "text": [
      "Downloading: \"https://download.pytorch.org/models/resnet18-f37072fd.pth\" to /root/.cache/torch/hub/checkpoints/resnet18-f37072fd.pth\n",
      "100%|██████████| 44.7M/44.7M [00:00<00:00, 81.6MB/s]\n"
     ]
    }
   ],
   "source": [
    "from torchvision.models import resnet18, ResNet18_Weights\n",
    "\n",
    "resnet_model = resnet18(weights=ResNet18_Weights.DEFAULT)"
   ]
  },
  {
   "cell_type": "markdown",
   "id": "f18cf745",
   "metadata": {
    "papermill": {
     "duration": 0.006876,
     "end_time": "2025-05-17T20:59:47.010231",
     "exception": false,
     "start_time": "2025-05-17T20:59:47.003355",
     "status": "completed"
    },
    "tags": []
   },
   "source": [
    "## Preparing for fine tuning"
   ]
  },
  {
   "cell_type": "markdown",
   "id": "676509ab",
   "metadata": {
    "papermill": {
     "duration": 0.006784,
     "end_time": "2025-05-17T20:59:47.023999",
     "exception": false,
     "start_time": "2025-05-17T20:59:47.017215",
     "status": "completed"
    },
    "tags": []
   },
   "source": [
    "~Freeze the base layers to focus on fine tuning~ Freezing made the accuracy drop far below v1, starting from 33 to 42% accuracy between epoch 1 and 12 (unlike 64 to 68 like in the simple v1).\n",
    "\n",
    "Therefore, it appears that the base weights are not sufficient to classify emotions and need some fine-tuning as well."
   ]
  },
  {
   "cell_type": "code",
   "execution_count": 12,
   "id": "94fa0386",
   "metadata": {
    "execution": {
     "iopub.execute_input": "2025-05-17T20:59:47.038745Z",
     "iopub.status.busy": "2025-05-17T20:59:47.038529Z",
     "iopub.status.idle": "2025-05-17T20:59:47.041592Z",
     "shell.execute_reply": "2025-05-17T20:59:47.041059Z"
    },
    "papermill": {
     "duration": 0.011719,
     "end_time": "2025-05-17T20:59:47.042637",
     "exception": false,
     "start_time": "2025-05-17T20:59:47.030918",
     "status": "completed"
    },
    "tags": []
   },
   "outputs": [],
   "source": [
    "# Freeze all base layers in the \"features\" section of the model (the feature extractor) by setting requires_grad=False\n",
    "# for param in resnet_model.parameters():\n",
    "#     param.requires_grad = False"
   ]
  },
  {
   "cell_type": "code",
   "execution_count": 13,
   "id": "b574c2ce",
   "metadata": {
    "execution": {
     "iopub.execute_input": "2025-05-17T20:59:47.057383Z",
     "iopub.status.busy": "2025-05-17T20:59:47.057202Z",
     "iopub.status.idle": "2025-05-17T20:59:47.061147Z",
     "shell.execute_reply": "2025-05-17T20:59:47.060636Z"
    },
    "id": "a6lm6lmj62nn",
    "outputId": "712a4431-c2c9-495c-ed59-e7cd3b3b1735",
    "papermill": {
     "duration": 0.01247,
     "end_time": "2025-05-17T20:59:47.062166",
     "exception": false,
     "start_time": "2025-05-17T20:59:47.049696",
     "status": "completed"
    },
    "tags": []
   },
   "outputs": [
    {
     "data": {
      "text/plain": [
       "Linear(in_features=512, out_features=1000, bias=True)"
      ]
     },
     "execution_count": 13,
     "metadata": {},
     "output_type": "execute_result"
    }
   ],
   "source": [
    "resnet_model.fc"
   ]
  },
  {
   "cell_type": "markdown",
   "id": "b46272d9",
   "metadata": {
    "id": "HcM9VIB16xJH",
    "papermill": {
     "duration": 0.006966,
     "end_time": "2025-05-17T20:59:47.076214",
     "exception": false,
     "start_time": "2025-05-17T20:59:47.069248",
     "status": "completed"
    },
    "tags": []
   },
   "source": [
    "The final fully connected layer has 512 input features and 1000 output features, but we want it to output only 7 classes instead.\n",
    "\n",
    "So we will replace this last layer with our own layer which will output only 7 outputs (one for each of our classes)."
   ]
  },
  {
   "cell_type": "code",
   "execution_count": 14,
   "id": "f2989285",
   "metadata": {
    "execution": {
     "iopub.execute_input": "2025-05-17T20:59:47.091339Z",
     "iopub.status.busy": "2025-05-17T20:59:47.090965Z",
     "iopub.status.idle": "2025-05-17T20:59:47.286468Z",
     "shell.execute_reply": "2025-05-17T20:59:47.285854Z"
    },
    "id": "ijFqJR3IwMhg",
    "outputId": "df238724-3ef1-4c21-8372-6d80acab9f45",
    "papermill": {
     "duration": 0.204303,
     "end_time": "2025-05-17T20:59:47.287688",
     "exception": false,
     "start_time": "2025-05-17T20:59:47.083385",
     "status": "completed"
    },
    "tags": []
   },
   "outputs": [
    {
     "data": {
      "text/plain": [
       "Sequential(\n",
       "  (0): Linear(in_features=512, out_features=512, bias=True)\n",
       "  (1): ReLU()\n",
       "  (2): Dropout(p=0.5, inplace=False)\n",
       "  (3): Linear(in_features=512, out_features=256, bias=True)\n",
       "  (4): ReLU()\n",
       "  (5): Dropout(p=0.5, inplace=False)\n",
       "  (6): Linear(in_features=256, out_features=7, bias=True)\n",
       ")"
      ]
     },
     "execution_count": 14,
     "metadata": {},
     "output_type": "execute_result"
    }
   ],
   "source": [
    "# Get the number of input features for the final fully connected layer\n",
    "num_ftrs = resnet_model.fc.in_features\n",
    "num_classes = 7 # no of classes in our data\n",
    "\n",
    "# Replace the final fully connected layer\n",
    "resnet_model.fc = nn.Sequential(\n",
    "    # First hidden layer (Input: num_ftrs, Output: 512 nodes)\n",
    "    nn.Linear(num_ftrs, 512),\n",
    "    nn.ReLU(),\n",
    "    nn.Dropout(0.5), # Slightly higher dropout rate example\n",
    "\n",
    "    # Second hidden layer (Input: 512, Output: 256 nodes)\n",
    "    nn.Linear(512, 256),\n",
    "    nn.ReLU(),\n",
    "    nn.Dropout(0.5), # Apply dropout again\n",
    "\n",
    "    # Output layer (Input: 256, Output: 7 classes)\n",
    "    nn.Linear(256, 7)\n",
    ")\n",
    "\n",
    "# Move model to device\n",
    "resnet_model.to(device)\n",
    "\n",
    "resnet_model.fc"
   ]
  },
  {
   "cell_type": "markdown",
   "id": "44a92d9f",
   "metadata": {
    "papermill": {
     "duration": 0.007004,
     "end_time": "2025-05-17T20:59:47.302454",
     "exception": false,
     "start_time": "2025-05-17T20:59:47.295450",
     "status": "completed"
    },
    "tags": []
   },
   "source": [
    "## Creating training and validation dataloaders"
   ]
  },
  {
   "cell_type": "markdown",
   "id": "ff9f2fed",
   "metadata": {
    "id": "npjSwP0T7QCd",
    "papermill": {
     "duration": 0.006914,
     "end_time": "2025-05-17T20:59:47.316392",
     "exception": false,
     "start_time": "2025-05-17T20:59:47.309478",
     "status": "completed"
    },
    "tags": []
   },
   "source": [
    "The resnet18 model is a pretrained model, so we have to transform our data into a form that is compatible with it. For example, the images in our dataset are grayscale (1 channel), but resnet18 was trained on 3-channel images."
   ]
  },
  {
   "cell_type": "code",
   "execution_count": 15,
   "id": "b2f95559",
   "metadata": {
    "execution": {
     "iopub.execute_input": "2025-05-17T20:59:47.331376Z",
     "iopub.status.busy": "2025-05-17T20:59:47.331142Z",
     "iopub.status.idle": "2025-05-17T20:59:47.335222Z",
     "shell.execute_reply": "2025-05-17T20:59:47.334727Z"
    },
    "id": "MHnKd_Vm8tQN",
    "outputId": "b4fa78d9-809c-414b-c285-dbfa8da6b078",
    "papermill": {
     "duration": 0.012861,
     "end_time": "2025-05-17T20:59:47.336279",
     "exception": false,
     "start_time": "2025-05-17T20:59:47.323418",
     "status": "completed"
    },
    "tags": []
   },
   "outputs": [
    {
     "data": {
      "text/plain": [
       "ImageClassification(\n",
       "    crop_size=[224]\n",
       "    resize_size=[256]\n",
       "    mean=[0.485, 0.456, 0.406]\n",
       "    std=[0.229, 0.224, 0.225]\n",
       "    interpolation=InterpolationMode.BILINEAR\n",
       ")"
      ]
     },
     "execution_count": 15,
     "metadata": {},
     "output_type": "execute_result"
    }
   ],
   "source": [
    "# the original transforms for the model\n",
    "ResNet18_Weights.DEFAULT.transforms()"
   ]
  },
  {
   "cell_type": "markdown",
   "id": "3afd933b",
   "metadata": {
    "id": "UzSlmHpx90-q",
    "papermill": {
     "duration": 0.007023,
     "end_time": "2025-05-17T20:59:47.350502",
     "exception": false,
     "start_time": "2025-05-17T20:59:47.343479",
     "status": "completed"
    },
    "tags": []
   },
   "source": [
    "\n",
    "Here, we define new transforms specific to the resnet model to use with the fer_train_val function:"
   ]
  },
  {
   "cell_type": "code",
   "execution_count": 16,
   "id": "d81860ed",
   "metadata": {
    "execution": {
     "iopub.execute_input": "2025-05-17T20:59:47.365632Z",
     "iopub.status.busy": "2025-05-17T20:59:47.365425Z",
     "iopub.status.idle": "2025-05-17T20:59:47.370744Z",
     "shell.execute_reply": "2025-05-17T20:59:47.370229Z"
    },
    "id": "cx20_4oL7Bqc",
    "papermill": {
     "duration": 0.01411,
     "end_time": "2025-05-17T20:59:47.371717",
     "exception": false,
     "start_time": "2025-05-17T20:59:47.357607",
     "status": "completed"
    },
    "tags": []
   },
   "outputs": [],
   "source": [
    "# ImageNet mean and std deviation (for 3 channels) - necessary because the pretrained model was trained with these\n",
    "IMAGENET_MEAN = [0.485, 0.456, 0.406]\n",
    "IMAGENET_STD = [0.229, 0.224, 0.225]\n",
    "TARGET_SIZE = 224 # The spatial size expected by the pretrained ResNet-18 after transforms\n",
    "\n",
    "# Transforms for the training set (includes augmentation)\n",
    "train_transforms_resnet = T.Compose([\n",
    "    T.Grayscale(num_output_channels=3), # Convert 1-channel grayscale to 3 channels by repeating\n",
    "    T.Resize(256),                      # Resize the image (typically the shorter side) to 256\n",
    "    T.RandomCrop(TARGET_SIZE),          # Take a random 224x224 crop for data augmentation\n",
    "    T.RandomHorizontalFlip(),           # Standard data augmentation\n",
    "    T.RandomRotation(degrees=10),       # add slight rotation\n",
    "    T.ColorJitter(brightness=0.2, contrast=0.2), # add brightness/contrast jitter\n",
    "    T.ToTensor(),                       # Convert PIL Image to PyTorch Tensor (scales to [0, 1])\n",
    "    T.Normalize(mean=IMAGENET_MEAN, std=IMAGENET_STD) # Normalize with ImageNet values\n",
    "])\n",
    "\n",
    "# Transforms for the validation/testing set (deterministic preprocessing)\n",
    "val_transforms_resnet = T.Compose([\n",
    "    T.Grayscale(num_output_channels=3), # Convert 1-channel grayscale to 3 channels\n",
    "    T.Resize(256),                      # Resize the image (typically the shorter side) to 256\n",
    "    T.CenterCrop(TARGET_SIZE),          # Take the central 224x224 crop for evaluation\n",
    "    T.ToTensor(),                       # Convert PIL Image to PyTorch Tensor (scales to [0, 1])\n",
    "    T.Normalize(mean=IMAGENET_MEAN, std=IMAGENET_STD) # Normalize with ImageNet values\n",
    "])\n"
   ]
  },
  {
   "cell_type": "markdown",
   "id": "0b11cc97",
   "metadata": {
    "id": "9BRKfb--92ua",
    "papermill": {
     "duration": 0.007264,
     "end_time": "2025-05-17T20:59:47.386210",
     "exception": false,
     "start_time": "2025-05-17T20:59:47.378946",
     "status": "completed"
    },
    "tags": []
   },
   "source": [
    "Then we again get our train and val sets:"
   ]
  },
  {
   "cell_type": "code",
   "execution_count": 17,
   "id": "a8b2219c",
   "metadata": {
    "execution": {
     "iopub.execute_input": "2025-05-17T20:59:47.401336Z",
     "iopub.status.busy": "2025-05-17T20:59:47.400906Z",
     "iopub.status.idle": "2025-05-17T20:59:58.147688Z",
     "shell.execute_reply": "2025-05-17T20:59:58.146735Z"
    },
    "papermill": {
     "duration": 10.755934,
     "end_time": "2025-05-17T20:59:58.149232",
     "exception": false,
     "start_time": "2025-05-17T20:59:47.393298",
     "status": "completed"
    },
    "tags": []
   },
   "outputs": [],
   "source": [
    "resnet_train, resnet_val = fer_train_val('/kaggle/input/train', 0.2, [train_transforms_resnet,val_transforms_resnet])"
   ]
  },
  {
   "cell_type": "markdown",
   "id": "068e4eaa",
   "metadata": {
    "papermill": {
     "duration": 0.007143,
     "end_time": "2025-05-17T20:59:58.164217",
     "exception": false,
     "start_time": "2025-05-17T20:59:58.157074",
     "status": "completed"
    },
    "tags": []
   },
   "source": [
    "Create the dataloaders:"
   ]
  },
  {
   "cell_type": "code",
   "execution_count": 18,
   "id": "050e838c",
   "metadata": {
    "execution": {
     "iopub.execute_input": "2025-05-17T20:59:58.179418Z",
     "iopub.status.busy": "2025-05-17T20:59:58.179161Z",
     "iopub.status.idle": "2025-05-17T20:59:58.183708Z",
     "shell.execute_reply": "2025-05-17T20:59:58.183110Z"
    },
    "papermill": {
     "duration": 0.013544,
     "end_time": "2025-05-17T20:59:58.184828",
     "exception": false,
     "start_time": "2025-05-17T20:59:58.171284",
     "status": "completed"
    },
    "tags": []
   },
   "outputs": [],
   "source": [
    "batch_size = 32\n",
    "resnet_trn_loader = DataLoader(resnet_train, batch_size=batch_size, shuffle=True, num_workers=2)\n",
    "resnet_val_loader = DataLoader(resnet_val, batch_size=batch_size, shuffle=False, num_workers=2)"
   ]
  },
  {
   "cell_type": "markdown",
   "id": "8251edec",
   "metadata": {
    "papermill": {
     "duration": 0.007144,
     "end_time": "2025-05-17T20:59:58.199680",
     "exception": false,
     "start_time": "2025-05-17T20:59:58.192536",
     "status": "completed"
    },
    "tags": []
   },
   "source": [
    "Define training functions for readability and reusability:"
   ]
  },
  {
   "cell_type": "code",
   "execution_count": 19,
   "id": "f80886c3",
   "metadata": {
    "_kg_hide-input": false,
    "execution": {
     "iopub.execute_input": "2025-05-17T20:59:58.215591Z",
     "iopub.status.busy": "2025-05-17T20:59:58.215032Z",
     "iopub.status.idle": "2025-05-17T20:59:58.232801Z",
     "shell.execute_reply": "2025-05-17T20:59:58.232107Z"
    },
    "papermill": {
     "duration": 0.027095,
     "end_time": "2025-05-17T20:59:58.233874",
     "exception": false,
     "start_time": "2025-05-17T20:59:58.206779",
     "status": "completed"
    },
    "tags": []
   },
   "outputs": [],
   "source": [
    "import sys\n",
    "def train_step(model: torch.nn.Module, \n",
    "               dataloader: torch.utils.data.DataLoader, \n",
    "               loss_fn: torch.nn.Module, \n",
    "               optimizer: torch.optim.Optimizer,\n",
    "               device: torch.device,\n",
    "               scheduler: torch.optim.lr_scheduler.OneCycleLR) -> Tuple[float, float]:\n",
    "    \"\"\"Trains a PyTorch model for a single epoch.\n",
    "\n",
    "    Turns a target PyTorch model to training mode and then\n",
    "    runs through all of the required training steps (forward\n",
    "    pass, loss calculation, optimizer step).\n",
    "\n",
    "    Args:\n",
    "    model: A PyTorch model to be trained.\n",
    "    dataloader: A DataLoader instance for the model to be trained on.\n",
    "    loss_fn: A PyTorch loss function to minimize.\n",
    "    optimizer: A PyTorch optimizer to help minimize the loss function.\n",
    "    device: A target device to compute on (e.g. \"cuda\" or \"cpu\").\n",
    "\n",
    "    Returns:\n",
    "    A tuple of training loss and training accuracy metrics.\n",
    "    In the form (train_loss, train_accuracy). For example:\n",
    "\n",
    "    (0.1112, 0.8743)\n",
    "    \"\"\"\n",
    "    # Put model in train mode\n",
    "    model.train()\n",
    "\n",
    "    # Setup train loss and train accuracy values\n",
    "    train_loss, train_acc = 0, 0\n",
    "\n",
    "    # Loop through data loader data batches\n",
    "    for batch, (X, y) in enumerate(dataloader):\n",
    "        # Send data to target device\n",
    "        X, y = X.to(device), y.to(device)\n",
    "\n",
    "        # 1. Forward pass\n",
    "        y_pred = model(X)\n",
    "\n",
    "        # 2. Calculate  and accumulate loss\n",
    "        loss = loss_fn(y_pred, y)\n",
    "        train_loss += loss.item() \n",
    "\n",
    "        # 3. Optimizer zero grad\n",
    "        optimizer.zero_grad()\n",
    "\n",
    "        # 4. Loss backward\n",
    "        loss.backward()\n",
    "\n",
    "        # 5. Optimizer step\n",
    "        optimizer.step()\n",
    "\n",
    "        # 6. (added) Scheduler step\n",
    "        scheduler.step()\n",
    "        \n",
    "\n",
    "        # Calculate and accumulate accuracy metric across all batches\n",
    "        y_pred_class = torch.argmax(torch.softmax(y_pred, dim=1), dim=1)\n",
    "        train_acc += (y_pred_class == y).sum().item()/len(y_pred)\n",
    "\n",
    "    # Adjust metrics to get average loss and accuracy per batch \n",
    "    train_loss = train_loss / len(dataloader)\n",
    "    train_acc = train_acc / len(dataloader)\n",
    "    return train_loss, train_acc\n",
    "\n",
    "def test_step(model: torch.nn.Module, \n",
    "              dataloader: torch.utils.data.DataLoader, \n",
    "              loss_fn: torch.nn.Module,\n",
    "              device: torch.device) -> Tuple[float, float]:\n",
    "    \"\"\"Tests a PyTorch model for a single epoch.\n",
    "\n",
    "    Turns a target PyTorch model to \"eval\" mode and then performs\n",
    "    a forward pass on a testing dataset.\n",
    "\n",
    "    Args:\n",
    "    model: A PyTorch model to be tested.\n",
    "    dataloader: A DataLoader instance for the model to be tested on.\n",
    "    loss_fn: A PyTorch loss function to calculate loss on the test data.\n",
    "    device: A target device to compute on (e.g. \"cuda\" or \"cpu\").\n",
    "\n",
    "    Returns:\n",
    "    A tuple of testing loss and testing accuracy metrics.\n",
    "    In the form (test_loss, test_accuracy). For example:\n",
    "\n",
    "    (0.0223, 0.8985)\n",
    "    \"\"\"\n",
    "    # Put model in eval mode\n",
    "    model.eval() \n",
    "\n",
    "    # Setup test loss and test accuracy values\n",
    "    test_loss, test_acc = 0, 0\n",
    "\n",
    "    # Turn on inference context manager\n",
    "    with torch.inference_mode():\n",
    "        # Loop through DataLoader batches\n",
    "        for batch, (X, y) in enumerate(dataloader):\n",
    "            # Send data to target device\n",
    "            X, y = X.to(device), y.to(device)\n",
    "\n",
    "            # 1. Forward pass\n",
    "            test_pred_logits = model(X)\n",
    "\n",
    "            # 2. Calculate and accumulate loss\n",
    "            loss = loss_fn(test_pred_logits, y)\n",
    "            test_loss += loss.item()\n",
    "\n",
    "            # Calculate and accumulate accuracy\n",
    "            test_pred_labels = test_pred_logits.argmax(dim=1)\n",
    "            test_acc += ((test_pred_labels == y).sum().item()/len(test_pred_labels))\n",
    "\n",
    "    # Adjust metrics to get average loss and accuracy per batch \n",
    "    test_loss = test_loss / len(dataloader)\n",
    "    test_acc = test_acc / len(dataloader)\n",
    "    return test_loss, test_acc\n",
    "\n",
    "# EDITED FOR PERFORMANCE AND TO IMPLEMENT EARLY STOPPING\n",
    "\n",
    "def train(model: torch.nn.Module,\n",
    "          train_dataloader: torch.utils.data.DataLoader,\n",
    "          test_dataloader: torch.utils.data.DataLoader, # Renamed from test_dataloader to val_dataloader for clarity with validation set\n",
    "          optimizer: torch.optim.Optimizer,\n",
    "          loss_fn: torch.nn.Module,\n",
    "          epochs: int,\n",
    "          scheduler: torch.optim.lr_scheduler.OneCycleLR, # Type hint specific OneCycleLR as used\n",
    "          device: torch.device,\n",
    "          # --- Early Stopping Parameters ---\n",
    "          patience: int = 10, # How many epochs to wait for improvement before stopping\n",
    "          min_delta: float = 0.0 # Minimum change to qualify as improvement\n",
    "          # ---------------------------------\n",
    "         ) -> Dict[str, List[float]]:\n",
    "    \"\"\"Trains and tests a PyTorch model with Early Stopping.\n",
    "\n",
    "    Passes a target PyTorch models through train_step() and test_step()\n",
    "    functions for a number of epochs, training and testing the model\n",
    "    in the same epoch loop. Stops early if validation performance\n",
    "    doesn't improve for 'patience' epochs.\n",
    "\n",
    "    Calculates, prints and stores evaluation metrics throughout.\n",
    "    Saves the best model state based on validation accuracy.\n",
    "\n",
    "    Args:\n",
    "        model: A PyTorch model to be trained and tested.\n",
    "        train_dataloader: A DataLoader instance for the model to be trained on.\n",
    "        test_dataloader: A DataLoader instance for the model to be validated on.\n",
    "        optimizer: A PyTorch optimizer to help minimize the loss function.\n",
    "        loss_fn: A PyTorch loss function to calculate loss on both datasets.\n",
    "        epochs: An integer indicating how many epochs to train for (maximum).\n",
    "        scheduler: A PyTorch learning rate scheduler (assumed to be stepped per batch).\n",
    "        device: A target device to compute on (e.g. \"cuda\" or \"cpu\").\n",
    "        patience: Number of epochs to wait for improvement in validation accuracy.\n",
    "        min_delta: Minimum change in validation accuracy to be considered an improvement.\n",
    "\n",
    "    Returns:\n",
    "        A dictionary of training and testing loss as well as training and\n",
    "        testing accuracy metrics tracked per epoch. The input 'model' object\n",
    "        will be updated in-place with the best weights found during training\n",
    "        (based on validation accuracy).\n",
    "    \"\"\"\n",
    "    # Create empty results dictionary\n",
    "    results = {\"train_loss\": [],\n",
    "               \"train_acc\": [],\n",
    "               \"test_loss\": [], # Renamed from test_loss to val_loss\n",
    "               \"test_acc\": []  # Renamed from test_acc to val_acc\n",
    "    }\n",
    "\n",
    "    # --- Early Stopping Initialization ---\n",
    "    best_val_accuracy = -float('inf') # Initialize best accuracy to a very low value\n",
    "    patience_counter = 0             # Initialize patience counter\n",
    "    best_model_state_dict = None     # To store the state_dict of the best model\n",
    "    print(f\"Early stopping configured with patience={patience}, min_delta={min_delta}\")\n",
    "    # ------------------------------------\n",
    "\n",
    "\n",
    "    # Loop through training and testing steps for a number of epochs\n",
    "    for epoch in tqdm(range(epochs)):\n",
    "        # Assuming train_step includes scheduler.step() per batch\n",
    "        train_loss, train_acc = train_step(model=model,\n",
    "                                             dataloader=train_dataloader,\n",
    "                                             loss_fn=loss_fn,\n",
    "                                             optimizer=optimizer,\n",
    "                                             device=device,\n",
    "                                             scheduler=scheduler) # Pass scheduler\n",
    "\n",
    "        # Assuming test_step is your validation step\n",
    "        val_loss, val_acc = test_step(model=model, # Renamed test_step calls to clarify validation\n",
    "                                          dataloader=test_dataloader, # Using test_dataloader as val_dataloader\n",
    "                                          loss_fn=loss_fn,\n",
    "                                          device=device)\n",
    "\n",
    "        # Print out what's happening\n",
    "        print(\n",
    "            f\"Epoch: {epoch+1} | \"\n",
    "            f\"train_loss: {train_loss:.4f} | \"\n",
    "            f\"train_acc: {train_acc:.4f} | \"\n",
    "            f\"val_loss: {val_loss:.4f} | \" # Renamed print output\n",
    "            f\"val_acc: {val_acc:.4f}\"     # Renamed print output\n",
    "        )\n",
    "\n",
    "        # --- Early Stopping Logic ---\n",
    "        # Check for improvement in validation accuracy\n",
    "        if val_acc > best_val_accuracy + min_delta:\n",
    "            best_val_accuracy = val_acc\n",
    "            patience_counter = 0 # Reset patience counter on improvement\n",
    "            # Save the model state dictionary\n",
    "            # Use copy.deepcopy() to save a true copy, not just a reference\n",
    "            best_model_state_dict = deepcopy(model.state_dict())\n",
    "            print(f\"  Validation accuracy improved. Saving best model state (Acc: {best_val_accuracy:.4f})\")\n",
    "        else:\n",
    "            patience_counter += 1 # Increment patience counter if no improvement\n",
    "            print(f\"  Validation accuracy did not improve. Patience: {patience_counter}/{patience}\")\n",
    "\n",
    "        # Check if early stopping condition is met\n",
    "        if patience_counter >= patience:\n",
    "            print(f\"Early stopping triggered after {epoch + 1} epochs.\")\n",
    "            break # Exit the training loop\n",
    "\n",
    "        # --- End Early Stopping Logic ---\n",
    "\n",
    "        # Update results dictionary\n",
    "        results[\"train_loss\"].append(train_loss)\n",
    "        results[\"train_acc\"].append(train_acc)\n",
    "        results[\"test_loss\"].append(val_loss) # Store as test_loss in results dict for consistency if needed later\n",
    "        results[\"test_acc\"].append(val_acc)   # Store as test_acc in results dict\n",
    "\n",
    "\n",
    "    # --- Load the best model state after training stops ---\n",
    "    if best_model_state_dict is not None:\n",
    "        print(\"Loading best model state found during training.\")\n",
    "        model.load_state_dict(best_model_state_dict)\n",
    "    else:\n",
    "         print(\"No improvement was found during training. Using the model from the last epoch.\")\n",
    "\n",
    "\n",
    "    # Return the filled results at the end of the epochs\n",
    "    return results"
   ]
  },
  {
   "cell_type": "markdown",
   "id": "b67cacd7",
   "metadata": {
    "papermill": {
     "duration": 0.006933,
     "end_time": "2025-05-17T20:59:58.248036",
     "exception": false,
     "start_time": "2025-05-17T20:59:58.241103",
     "status": "completed"
    },
    "tags": []
   },
   "source": [
    "## Set up configuration"
   ]
  },
  {
   "cell_type": "markdown",
   "id": "6af07034",
   "metadata": {
    "papermill": {
     "duration": 0.00767,
     "end_time": "2025-05-17T20:59:58.262800",
     "exception": false,
     "start_time": "2025-05-17T20:59:58.255130",
     "status": "completed"
    },
    "tags": []
   },
   "source": [
    "FastAI has good tools for hyperparameter tuning, so I will use it here:"
   ]
  },
  {
   "cell_type": "code",
   "execution_count": 20,
   "id": "5c72dced",
   "metadata": {
    "execution": {
     "iopub.execute_input": "2025-05-17T20:59:58.277964Z",
     "iopub.status.busy": "2025-05-17T20:59:58.277759Z",
     "iopub.status.idle": "2025-05-17T21:00:02.543001Z",
     "shell.execute_reply": "2025-05-17T21:00:02.542240Z"
    },
    "papermill": {
     "duration": 4.274589,
     "end_time": "2025-05-17T21:00:02.544539",
     "exception": false,
     "start_time": "2025-05-17T20:59:58.269950",
     "status": "completed"
    },
    "tags": []
   },
   "outputs": [],
   "source": [
    "# importing fastai\n",
    "from fastai.vision.all import *\n",
    "\n",
    "# defining the DataLoaders object in FastAI using both train and val datasets\n",
    "dls = DataLoaders(resnet_trn_loader, resnet_val_loader)\n",
    "\n",
    "# wrapping our dataloader in a fastai learner\n",
    "learn = Learner(\n",
    "    dls, resnet_model,\n",
    "    loss_func=CrossEntropyLossFlat(), \n",
    "    opt_func=SGD,\n",
    "    metrics=accuracy\n",
    ")"
   ]
  },
  {
   "cell_type": "code",
   "execution_count": 21,
   "id": "1265bcde",
   "metadata": {
    "execution": {
     "iopub.execute_input": "2025-05-17T21:00:02.560541Z",
     "iopub.status.busy": "2025-05-17T21:00:02.560235Z",
     "iopub.status.idle": "2025-05-17T21:00:17.245556Z",
     "shell.execute_reply": "2025-05-17T21:00:17.244775Z"
    },
    "papermill": {
     "duration": 14.69457,
     "end_time": "2025-05-17T21:00:17.246865",
     "exception": false,
     "start_time": "2025-05-17T21:00:02.552295",
     "status": "completed"
    },
    "tags": []
   },
   "outputs": [
    {
     "data": {
      "text/html": [
       "\n",
       "<style>\n",
       "    /* Turns off some styling */\n",
       "    progress {\n",
       "        /* gets rid of default border in Firefox and Opera. */\n",
       "        border: none;\n",
       "        /* Needs to be in here for Safari polyfill so background images work as expected. */\n",
       "        background-size: auto;\n",
       "    }\n",
       "    progress:not([value]), progress:not([value])::-webkit-progress-bar {\n",
       "        background: repeating-linear-gradient(45deg, #7e7e7e, #7e7e7e 10px, #5c5c5c 10px, #5c5c5c 20px);\n",
       "    }\n",
       "    .progress-bar-interrupted, .progress-bar-interrupted::-webkit-progress-bar {\n",
       "        background: #F44336;\n",
       "    }\n",
       "</style>\n"
      ],
      "text/plain": [
       "<IPython.core.display.HTML object>"
      ]
     },
     "metadata": {},
     "output_type": "display_data"
    },
    {
     "data": {
      "text/html": [],
      "text/plain": [
       "<IPython.core.display.HTML object>"
      ]
     },
     "metadata": {},
     "output_type": "display_data"
    },
    {
     "name": "stdout",
     "output_type": "stream",
     "text": [
      "SuggestedLRs(valley=0.02290867641568184)\n"
     ]
    },
    {
     "data": {
      "image/png": "[encoded data removed]",
      "text/plain": [
       "<Figure size 640x480 with 1 Axes>"
      ]
     },
     "metadata": {},
     "output_type": "display_data"
    }
   ],
   "source": [
    "# finding the learning rate\n",
    "lr_result = learn.lr_find()\n",
    "print(lr_result)"
   ]
  },
  {
   "cell_type": "code",
   "execution_count": 22,
   "id": "e9e1b691",
   "metadata": {
    "execution": {
     "iopub.execute_input": "2025-05-17T21:00:17.265298Z",
     "iopub.status.busy": "2025-05-17T21:00:17.265023Z",
     "iopub.status.idle": "2025-05-17T21:00:17.269316Z",
     "shell.execute_reply": "2025-05-17T21:00:17.268806Z"
    },
    "papermill": {
     "duration": 0.014619,
     "end_time": "2025-05-17T21:00:17.270326",
     "exception": false,
     "start_time": "2025-05-17T21:00:17.255707",
     "status": "completed"
    },
    "tags": []
   },
   "outputs": [
    {
     "data": {
      "text/plain": [
       "0.02290867641568184"
      ]
     },
     "execution_count": 22,
     "metadata": {},
     "output_type": "execute_result"
    }
   ],
   "source": [
    "lr = float(lr_result.valley)\n",
    "lr"
   ]
  },
  {
   "cell_type": "code",
   "execution_count": 23,
   "id": "77cd3c4b",
   "metadata": {
    "execution": {
     "iopub.execute_input": "2025-05-17T21:00:17.287012Z",
     "iopub.status.busy": "2025-05-17T21:00:17.286813Z",
     "iopub.status.idle": "2025-05-17T21:00:17.291373Z",
     "shell.execute_reply": "2025-05-17T21:00:17.290848Z"
    },
    "papermill": {
     "duration": 0.013961,
     "end_time": "2025-05-17T21:00:17.292356",
     "exception": false,
     "start_time": "2025-05-17T21:00:17.278395",
     "status": "completed"
    },
    "tags": []
   },
   "outputs": [],
   "source": [
    "# so we use that as our learning rate\n",
    "learning_rate = lr\n",
    "\n",
    "# define the criterion (loss function)\n",
    "criterion = nn.CrossEntropyLoss()\n",
    "\n",
    "# defining the optimizer, this time using SGD\n",
    "optimizer = optim.SGD(\n",
    "    resnet_model.parameters(),\n",
    "    lr=lr,\n",
    "    momentum=0.9,\n",
    "    weight_decay=1e-4)\n",
    "\n",
    "# define the number of epochs\n",
    "num_epochs = 50\n",
    "\n",
    "# adding a learning rate scheduler (OneCycleLR)\n",
    "scheduler = torch.optim.lr_scheduler.OneCycleLR(\n",
    "    optimizer,\n",
    "    max_lr=lr,\n",
    "    steps_per_epoch=len(resnet_trn_loader),\n",
    "    epochs=num_epochs)\n"
   ]
  },
  {
   "cell_type": "markdown",
   "id": "843472f6",
   "metadata": {
    "papermill": {
     "duration": 0.007701,
     "end_time": "2025-05-17T21:00:17.307929",
     "exception": false,
     "start_time": "2025-05-17T21:00:17.300228",
     "status": "completed"
    },
    "tags": []
   },
   "source": [
    "## Now, we train"
   ]
  },
  {
   "cell_type": "markdown",
   "id": "c0c10979",
   "metadata": {
    "papermill": {
     "duration": 0.007754,
     "end_time": "2025-05-17T21:00:17.323602",
     "exception": false,
     "start_time": "2025-05-17T21:00:17.315848",
     "status": "completed"
    },
    "tags": []
   },
   "source": [
    "Actual training:"
   ]
  },
  {
   "cell_type": "code",
   "execution_count": 24,
   "id": "db511e3a",
   "metadata": {
    "execution": {
     "iopub.execute_input": "2025-05-17T21:00:17.339999Z",
     "iopub.status.busy": "2025-05-17T21:00:17.339828Z",
     "iopub.status.idle": "2025-05-17T22:05:19.157760Z",
     "shell.execute_reply": "2025-05-17T22:05:19.156902Z"
    },
    "papermill": {
     "duration": 3901.83441,
     "end_time": "2025-05-17T22:05:19.165873",
     "exception": false,
     "start_time": "2025-05-17T21:00:17.331463",
     "status": "completed"
    },
    "tags": []
   },
   "outputs": [
    {
     "name": "stdout",
     "output_type": "stream",
     "text": [
      "Early stopping configured with patience=10, min_delta=0.0001\n"
     ]
    },
    {
     "data": {
      "application/vnd.jupyter.widget-view+json": {
       "model_id": "61b5d78c598344849953da09947bf379",
       "version_major": 2,
       "version_minor": 0
      },
      "text/plain": [
       "  0%|          | 0/50 [00:00<?, ?it/s]"
      ]
     },
     "metadata": {},
     "output_type": "display_data"
    },
    {
     "name": "stdout",
     "output_type": "stream",
     "text": [
      "Epoch: 1 | train_loss: 1.5999 | train_acc: 0.3571 | val_loss: 1.2546 | val_acc: 0.5237\n",
      "  Validation accuracy improved. Saving best model state (Acc: 0.5237)\n",
      "Epoch: 2 | train_loss: 1.2553 | train_acc: 0.5227 | val_loss: 1.1389 | val_acc: 0.5701\n",
      "  Validation accuracy improved. Saving best model state (Acc: 0.5701)\n",
      "Epoch: 3 | train_loss: 1.1510 | train_acc: 0.5707 | val_loss: 1.0794 | val_acc: 0.5907\n",
      "  Validation accuracy improved. Saving best model state (Acc: 0.5907)\n",
      "Epoch: 4 | train_loss: 1.1120 | train_acc: 0.5926 | val_loss: 1.0267 | val_acc: 0.6185\n",
      "  Validation accuracy improved. Saving best model state (Acc: 0.6185)\n",
      "Epoch: 5 | train_loss: 1.0892 | train_acc: 0.6001 | val_loss: 1.0124 | val_acc: 0.6270\n",
      "  Validation accuracy improved. Saving best model state (Acc: 0.6270)\n",
      "Epoch: 6 | train_loss: 1.0856 | train_acc: 0.6024 | val_loss: 1.0662 | val_acc: 0.6128\n",
      "  Validation accuracy did not improve. Patience: 1/10\n",
      "Epoch: 7 | train_loss: 1.0635 | train_acc: 0.6147 | val_loss: 1.0609 | val_acc: 0.5973\n",
      "  Validation accuracy did not improve. Patience: 2/10\n",
      "Epoch: 8 | train_loss: 1.0595 | train_acc: 0.6211 | val_loss: 1.0645 | val_acc: 0.6077\n",
      "  Validation accuracy did not improve. Patience: 3/10\n",
      "Epoch: 9 | train_loss: 1.0472 | train_acc: 0.6214 | val_loss: 1.0126 | val_acc: 0.6237\n",
      "  Validation accuracy did not improve. Patience: 4/10\n",
      "Epoch: 10 | train_loss: 1.0288 | train_acc: 0.6298 | val_loss: 1.1638 | val_acc: 0.5855\n",
      "  Validation accuracy did not improve. Patience: 5/10\n",
      "Epoch: 11 | train_loss: 1.0074 | train_acc: 0.6411 | val_loss: 1.0436 | val_acc: 0.6163\n",
      "  Validation accuracy did not improve. Patience: 6/10\n",
      "Epoch: 12 | train_loss: 1.0007 | train_acc: 0.6440 | val_loss: 1.0081 | val_acc: 0.6218\n",
      "  Validation accuracy did not improve. Patience: 7/10\n",
      "Epoch: 13 | train_loss: 0.9760 | train_acc: 0.6549 | val_loss: 1.0190 | val_acc: 0.6224\n",
      "  Validation accuracy did not improve. Patience: 8/10\n",
      "Epoch: 14 | train_loss: 0.9505 | train_acc: 0.6638 | val_loss: 0.9766 | val_acc: 0.6375\n",
      "  Validation accuracy improved. Saving best model state (Acc: 0.6375)\n",
      "Epoch: 15 | train_loss: 0.9405 | train_acc: 0.6684 | val_loss: 1.0826 | val_acc: 0.6091\n",
      "  Validation accuracy did not improve. Patience: 1/10\n",
      "Epoch: 16 | train_loss: 0.9041 | train_acc: 0.6798 | val_loss: 0.9525 | val_acc: 0.6536\n",
      "  Validation accuracy improved. Saving best model state (Acc: 0.6536)\n",
      "Epoch: 17 | train_loss: 0.8873 | train_acc: 0.6831 | val_loss: 0.9546 | val_acc: 0.6469\n",
      "  Validation accuracy did not improve. Patience: 1/10\n",
      "Epoch: 18 | train_loss: 0.8670 | train_acc: 0.6951 | val_loss: 0.9569 | val_acc: 0.6563\n",
      "  Validation accuracy improved. Saving best model state (Acc: 0.6563)\n",
      "Epoch: 19 | train_loss: 0.8422 | train_acc: 0.7021 | val_loss: 1.0719 | val_acc: 0.6249\n",
      "  Validation accuracy did not improve. Patience: 1/10\n",
      "Epoch: 20 | train_loss: 0.8241 | train_acc: 0.7092 | val_loss: 0.9766 | val_acc: 0.6553\n",
      "  Validation accuracy did not improve. Patience: 2/10\n",
      "Epoch: 21 | train_loss: 0.8029 | train_acc: 0.7171 | val_loss: 0.9833 | val_acc: 0.6512\n",
      "  Validation accuracy did not improve. Patience: 3/10\n",
      "Epoch: 22 | train_loss: 0.7927 | train_acc: 0.7217 | val_loss: 0.9507 | val_acc: 0.6621\n",
      "  Validation accuracy improved. Saving best model state (Acc: 0.6621)\n",
      "Epoch: 23 | train_loss: 0.7566 | train_acc: 0.7327 | val_loss: 0.9505 | val_acc: 0.6644\n",
      "  Validation accuracy improved. Saving best model state (Acc: 0.6644)\n",
      "Epoch: 24 | train_loss: 0.7464 | train_acc: 0.7366 | val_loss: 1.0052 | val_acc: 0.6453\n",
      "  Validation accuracy did not improve. Patience: 1/10\n",
      "Epoch: 25 | train_loss: 0.7317 | train_acc: 0.7440 | val_loss: 0.9229 | val_acc: 0.6640\n",
      "  Validation accuracy did not improve. Patience: 2/10\n",
      "Epoch: 26 | train_loss: 0.7071 | train_acc: 0.7503 | val_loss: 1.0283 | val_acc: 0.6465\n",
      "  Validation accuracy did not improve. Patience: 3/10\n",
      "Epoch: 27 | train_loss: 0.6856 | train_acc: 0.7567 | val_loss: 0.9873 | val_acc: 0.6577\n",
      "  Validation accuracy did not improve. Patience: 4/10\n",
      "Epoch: 28 | train_loss: 0.6611 | train_acc: 0.7712 | val_loss: 0.9648 | val_acc: 0.6624\n",
      "  Validation accuracy did not improve. Patience: 5/10\n",
      "Epoch: 29 | train_loss: 0.6294 | train_acc: 0.7773 | val_loss: 0.9896 | val_acc: 0.6577\n",
      "  Validation accuracy did not improve. Patience: 6/10\n",
      "Epoch: 30 | train_loss: 0.6157 | train_acc: 0.7834 | val_loss: 0.9623 | val_acc: 0.6644\n",
      "  Validation accuracy did not improve. Patience: 7/10\n",
      "Epoch: 31 | train_loss: 0.6137 | train_acc: 0.7870 | val_loss: 0.9941 | val_acc: 0.6663\n",
      "  Validation accuracy improved. Saving best model state (Acc: 0.6663)\n",
      "Epoch: 32 | train_loss: 0.5924 | train_acc: 0.7911 | val_loss: 1.0526 | val_acc: 0.6715\n",
      "  Validation accuracy improved. Saving best model state (Acc: 0.6715)\n",
      "Epoch: 33 | train_loss: 0.5530 | train_acc: 0.8086 | val_loss: 1.0669 | val_acc: 0.6634\n",
      "  Validation accuracy did not improve. Patience: 1/10\n",
      "Epoch: 34 | train_loss: 0.5329 | train_acc: 0.8150 | val_loss: 1.0185 | val_acc: 0.6729\n",
      "  Validation accuracy improved. Saving best model state (Acc: 0.6729)\n",
      "Epoch: 35 | train_loss: 0.5146 | train_acc: 0.8211 | val_loss: 0.9801 | val_acc: 0.6676\n",
      "  Validation accuracy did not improve. Patience: 1/10\n",
      "Epoch: 36 | train_loss: 0.4782 | train_acc: 0.8328 | val_loss: 1.0349 | val_acc: 0.6760\n",
      "  Validation accuracy improved. Saving best model state (Acc: 0.6760)\n",
      "Epoch: 37 | train_loss: 0.4376 | train_acc: 0.8472 | val_loss: 1.0745 | val_acc: 0.6762\n",
      "  Validation accuracy improved. Saving best model state (Acc: 0.6762)\n",
      "Epoch: 38 | train_loss: 0.4140 | train_acc: 0.8592 | val_loss: 1.0680 | val_acc: 0.6746\n",
      "  Validation accuracy did not improve. Patience: 1/10\n",
      "Epoch: 39 | train_loss: 0.3853 | train_acc: 0.8669 | val_loss: 1.0843 | val_acc: 0.6748\n",
      "  Validation accuracy did not improve. Patience: 2/10\n",
      "Epoch: 40 | train_loss: 0.3505 | train_acc: 0.8797 | val_loss: 1.1565 | val_acc: 0.6738\n",
      "  Validation accuracy did not improve. Patience: 3/10\n",
      "Epoch: 41 | train_loss: 0.3120 | train_acc: 0.8937 | val_loss: 1.1831 | val_acc: 0.6664\n",
      "  Validation accuracy did not improve. Patience: 4/10\n",
      "Epoch: 42 | train_loss: 0.2750 | train_acc: 0.9073 | val_loss: 1.2840 | val_acc: 0.6705\n",
      "  Validation accuracy did not improve. Patience: 5/10\n",
      "Epoch: 43 | train_loss: 0.2500 | train_acc: 0.9149 | val_loss: 1.2118 | val_acc: 0.6833\n",
      "  Validation accuracy improved. Saving best model state (Acc: 0.6833)\n",
      "Epoch: 44 | train_loss: 0.2145 | train_acc: 0.9280 | val_loss: 1.2724 | val_acc: 0.6902\n",
      "  Validation accuracy improved. Saving best model state (Acc: 0.6902)\n",
      "Epoch: 45 | train_loss: 0.1768 | train_acc: 0.9394 | val_loss: 1.3344 | val_acc: 0.6879\n",
      "  Validation accuracy did not improve. Patience: 1/10\n",
      "Epoch: 46 | train_loss: 0.1501 | train_acc: 0.9501 | val_loss: 1.4165 | val_acc: 0.6909\n",
      "  Validation accuracy improved. Saving best model state (Acc: 0.6909)\n",
      "Epoch: 47 | train_loss: 0.1331 | train_acc: 0.9555 | val_loss: 1.4921 | val_acc: 0.6855\n",
      "  Validation accuracy did not improve. Patience: 1/10\n",
      "Epoch: 48 | train_loss: 0.1164 | train_acc: 0.9608 | val_loss: 1.4695 | val_acc: 0.6987\n",
      "  Validation accuracy improved. Saving best model state (Acc: 0.6987)\n",
      "Epoch: 49 | train_loss: 0.1047 | train_acc: 0.9661 | val_loss: 1.5011 | val_acc: 0.6938\n",
      "  Validation accuracy did not improve. Patience: 1/10\n",
      "Epoch: 50 | train_loss: 0.1050 | train_acc: 0.9648 | val_loss: 1.4790 | val_acc: 0.6939\n",
      "  Validation accuracy did not improve. Patience: 2/10\n",
      "Loading best model state found during training.\n",
      "[INFO] Total training time: 3901.813 seconds\n"
     ]
    }
   ],
   "source": [
    "# Set number of epochs again for modularity\n",
    "num_epochs = 50 \n",
    "\n",
    "# set patience value for early stopping\n",
    "patience_value = 10\n",
    "\n",
    "# Start the timer\n",
    "from timeit import default_timer as timer\n",
    "start_time = timer()\n",
    "\n",
    "# Call the training function with early stopping parameters\n",
    "resnet18_results = train(model=resnet_model,\n",
    "                         train_dataloader=resnet_trn_loader,\n",
    "                         test_dataloader=resnet_val_loader,\n",
    "                         optimizer=optimizer,\n",
    "                         loss_fn=criterion,\n",
    "                         epochs=num_epochs,\n",
    "                         scheduler=scheduler,\n",
    "                         device=device,\n",
    "                         patience=patience_value,\n",
    "                         min_delta=0.0001\n",
    "                         )\n",
    "\n",
    "# End the timer and print out how long it took\n",
    "end_time = timer()\n",
    "print(f\"[INFO] Total training time: {end_time-start_time:.3f} seconds\")"
   ]
  },
  {
   "cell_type": "markdown",
   "id": "5a7948c0",
   "metadata": {
    "papermill": {
     "duration": 0.009893,
     "end_time": "2025-05-17T22:05:19.185899",
     "exception": false,
     "start_time": "2025-05-17T22:05:19.176006",
     "status": "completed"
    },
    "tags": []
   },
   "source": [
    "# Test Model - Resnet18"
   ]
  },
  {
   "cell_type": "markdown",
   "id": "da0ca213",
   "metadata": {
    "papermill": {
     "duration": 0.009838,
     "end_time": "2025-05-17T22:05:19.205592",
     "exception": false,
     "start_time": "2025-05-17T22:05:19.195754",
     "status": "completed"
    },
    "tags": []
   },
   "source": [
    "Load the test data:\n"
   ]
  },
  {
   "cell_type": "code",
   "execution_count": 25,
   "id": "a164f327",
   "metadata": {
    "execution": {
     "iopub.execute_input": "2025-05-17T22:05:19.226588Z",
     "iopub.status.busy": "2025-05-17T22:05:19.226306Z",
     "iopub.status.idle": "2025-05-17T22:05:30.426652Z",
     "shell.execute_reply": "2025-05-17T22:05:30.425854Z"
    },
    "papermill": {
     "duration": 11.212595,
     "end_time": "2025-05-17T22:05:30.428010",
     "exception": false,
     "start_time": "2025-05-17T22:05:19.215415",
     "status": "completed"
    },
    "tags": []
   },
   "outputs": [],
   "source": [
    "test_dataset = ImageFolder(root='/kaggle/input/test', transform=val_transforms_resnet)\n",
    "test_dataloader = DataLoader(\n",
    "    test_dataset,\n",
    "    batch_size=4,\n",
    "    shuffle=False,\n",
    "    num_workers=2,\n",
    ")"
   ]
  },
  {
   "cell_type": "code",
   "execution_count": 26,
   "id": "fb3043bc",
   "metadata": {
    "execution": {
     "iopub.execute_input": "2025-05-17T22:05:30.503582Z",
     "iopub.status.busy": "2025-05-17T22:05:30.503339Z",
     "iopub.status.idle": "2025-05-17T22:05:54.407708Z",
     "shell.execute_reply": "2025-05-17T22:05:54.406743Z"
    },
    "papermill": {
     "duration": 23.916313,
     "end_time": "2025-05-17T22:05:54.408864",
     "exception": false,
     "start_time": "2025-05-17T22:05:30.492551",
     "status": "completed"
    },
    "tags": []
   },
   "outputs": [
    {
     "name": "stdout",
     "output_type": "stream",
     "text": [
      "              precision    recall  f1-score   support\n",
      "\n",
      "       angry       0.63      0.63      0.63       958\n",
      "     disgust       0.81      0.71      0.76       111\n",
      "        fear       0.56      0.52      0.54      1024\n",
      "       happy       0.88      0.88      0.88      1774\n",
      "     neutral       0.65      0.66      0.66      1233\n",
      "         sad       0.56      0.58      0.57      1247\n",
      "    surprise       0.80      0.82      0.81       831\n",
      "\n",
      "    accuracy                           0.70      7178\n",
      "   macro avg       0.70      0.69      0.69      7178\n",
      "weighted avg       0.70      0.70      0.70      7178\n",
      "\n"
     ]
    }
   ],
   "source": [
    "from sklearn.metrics import classification_report\n",
    "\n",
    "# Evaluate model\n",
    "resnet_model.eval()\n",
    "all_preds = []\n",
    "all_labels = []\n",
    "\n",
    "with torch.inference_mode():\n",
    "    for inputs, labels in test_dataloader:\n",
    "        inputs, labels = inputs.to(device), labels.to(device)\n",
    "        outputs = resnet_model(inputs)\n",
    "        _, preds = torch.max(outputs, 1)\n",
    "        all_preds.extend(preds.cpu().numpy())\n",
    "        all_labels.extend(labels.cpu().numpy())\n",
    "\n",
    "# Generate classification report as dictionary\n",
    "report_dict = classification_report(\n",
    "    all_labels, \n",
    "    all_preds, \n",
    "    target_names=full_data.classes, \n",
    "    output_dict=True\n",
    ")\n",
    "\n",
    "# Print report\n",
    "print(classification_report(all_labels, all_preds, target_names=full_data.classes))\n"
   ]
  },
  {
   "cell_type": "markdown",
   "id": "f021a756",
   "metadata": {
    "papermill": {
     "duration": 0.009894,
     "end_time": "2025-05-17T22:05:54.429613",
     "exception": false,
     "start_time": "2025-05-17T22:05:54.419719",
     "status": "completed"
    },
    "tags": []
   },
   "source": [
    "Save model parameters:"
   ]
  },
  {
   "cell_type": "code",
   "execution_count": 27,
   "id": "b29fb254",
   "metadata": {
    "execution": {
     "iopub.execute_input": "2025-05-17T22:05:54.450579Z",
     "iopub.status.busy": "2025-05-17T22:05:54.450334Z",
     "iopub.status.idle": "2025-05-17T22:05:54.533316Z",
     "shell.execute_reply": "2025-05-17T22:05:54.532702Z"
    },
    "papermill": {
     "duration": 0.095126,
     "end_time": "2025-05-17T22:05:54.534591",
     "exception": false,
     "start_time": "2025-05-17T22:05:54.439465",
     "status": "completed"
    },
    "tags": []
   },
   "outputs": [],
   "source": [
    "torch.save(resnet_model.state_dict(), \"./v3-resnet18.pt\")"
   ]
  }
 ],
 "metadata": {
  "colab": {
   "provenance": []
  },
  "kaggle": {
   "accelerator": "gpu",
   "dataSources": [
    {
     "datasetId": 786787,
     "sourceId": 1351797,
     "sourceType": "datasetVersion"
    }
   ],
   "dockerImageVersionId": 31041,
   "isGpuEnabled": true,
   "isInternetEnabled": true,
   "language": "python",
   "sourceType": "notebook"
  },
  "kernelspec": {
   "display_name": "Python 3",
   "language": "python",
   "name": "python3"
  },
  "language_info": {
   "codemirror_mode": {
    "name": "ipython",
    "version": 3
   },
   "file_extension": ".py",
   "mimetype": "text/x-python",
   "name": "python",
   "nbconvert_exporter": "python",
   "pygments_lexer": "ipython3",
   "version": "3.11.11"
  },
  "papermill": {
   "default_parameters": {},
   "duration": 4017.045479,
   "end_time": "2025-05-17T22:05:58.147775",
   "environment_variables": {},
   "exception": null,
   "input_path": "__notebook__.ipynb",
   "output_path": "__notebook__.ipynb",
   "parameters": {},
   "start_time": "2025-05-17T20:59:01.102296",
   "version": "2.6.0"
  },
  "widgets": {
   "application/vnd.jupyter.widget-state+json": {
    "state": {
     "00bc834ece994f9ab11116a9666496b7": {
      "model_module": "@jupyter-widgets/base",
      "model_module_version": "2.0.0",
      "model_name": "LayoutModel",
      "state": {
       "_model_module": "@jupyter-widgets/base",
       "_model_module_version": "2.0.0",
       "_model_name": "LayoutModel",
       "_view_count": null,
       "_view_module": "@jupyter-widgets/base",
       "_view_module_version": "2.0.0",
       "_view_name": "LayoutView",
       "align_content": null,
       "align_items": null,
       "align_self": null,
       "border_bottom": null,
       "border_left": null,
       "border_right": null,
       "border_top": null,
       "bottom": null,
       "display": null,
       "flex": null,
       "flex_flow": null,
       "grid_area": null,
       "grid_auto_columns": null,
       "grid_auto_flow": null,
       "grid_auto_rows": null,
       "grid_column": null,
       "grid_gap": null,
       "grid_row": null,
       "grid_template_areas": null,
       "grid_template_columns": null,
       "grid_template_rows": null,
       "height": null,
       "justify_content": null,
       "justify_items": null,
       "left": null,
       "margin": null,
       "max_height": null,
       "max_width": null,
       "min_height": null,
       "min_width": null,
       "object_fit": null,
       "object_position": null,
       "order": null,
       "overflow": null,
       "padding": null,
       "right": null,
       "top": null,
       "visibility": null,
       "width": null
      }
     },
     "1f198be27fb74ff98274147fee59ece7": {
      "model_module": "@jupyter-widgets/base",
      "model_module_version": "2.0.0",
      "model_name": "LayoutModel",
      "state": {
       "_model_module": "@jupyter-widgets/base",
       "_model_module_version": "2.0.0",
       "_model_name": "LayoutModel",
       "_view_count": null,
       "_view_module": "@jupyter-widgets/base",
       "_view_module_version": "2.0.0",
       "_view_name": "LayoutView",
       "align_content": null,
       "align_items": null,
       "align_self": null,
       "border_bottom": null,
       "border_left": null,
       "border_right": null,
       "border_top": null,
       "bottom": null,
       "display": null,
       "flex": null,
       "flex_flow": null,
       "grid_area": null,
       "grid_auto_columns": null,
       "grid_auto_flow": null,
       "grid_auto_rows": null,
       "grid_column": null,
       "grid_gap": null,
       "grid_row": null,
       "grid_template_areas": null,
       "grid_template_columns": null,
       "grid_template_rows": null,
       "height": null,
       "justify_content": null,
       "justify_items": null,
       "left": null,
       "margin": null,
       "max_height": null,
       "max_width": null,
       "min_height": null,
       "min_width": null,
       "object_fit": null,
       "object_position": null,
       "order": null,
       "overflow": null,
       "padding": null,
       "right": null,
       "top": null,
       "visibility": null,
       "width": null
      }
     },
     "61b5d78c598344849953da09947bf379": {
      "model_module": "@jupyter-widgets/controls",
      "model_module_version": "2.0.0",
      "model_name": "HBoxModel",
      "state": {
       "_dom_classes": [],
       "_model_module": "@jupyter-widgets/controls",
       "_model_module_version": "2.0.0",
       "_model_name": "HBoxModel",
       "_view_count": null,
       "_view_module": "@jupyter-widgets/controls",
       "_view_module_version": "2.0.0",
       "_view_name": "HBoxView",
       "box_style": "",
       "children": [
        "IPY_MODEL_bb43e9a28c124ddebc1a9a338b63fb8d",
        "IPY_MODEL_790c3c685d274062a20df0bbf73846c9",
        "IPY_MODEL_afbb0a6f00764fe4aa4fa4c91b25d6f6"
       ],
       "layout": "IPY_MODEL_00bc834ece994f9ab11116a9666496b7",
       "tabbable": null,
       "tooltip": null
      }
     },
     "790c3c685d274062a20df0bbf73846c9": {
      "model_module": "@jupyter-widgets/controls",
      "model_module_version": "2.0.0",
      "model_name": "FloatProgressModel",
      "state": {
       "_dom_classes": [],
       "_model_module": "@jupyter-widgets/controls",
       "_model_module_version": "2.0.0",
       "_model_name": "FloatProgressModel",
       "_view_count": null,
       "_view_module": "@jupyter-widgets/controls",
       "_view_module_version": "2.0.0",
       "_view_name": "ProgressView",
       "bar_style": "success",
       "description": "",
       "description_allow_html": false,
       "layout": "IPY_MODEL_a2f13a6f9d58470388ef4f37df595183",
       "max": 50.0,
       "min": 0.0,
       "orientation": "horizontal",
       "style": "IPY_MODEL_db416b70c9b64c8987fe6632a79d86c1",
       "tabbable": null,
       "tooltip": null,
       "value": 50.0
      }
     },
     "8d2556db39c940999899a3b782e0b9cf": {
      "model_module": "@jupyter-widgets/controls",
      "model_module_version": "2.0.0",
      "model_name": "HTMLStyleModel",
      "state": {
       "_model_module": "@jupyter-widgets/controls",
       "_model_module_version": "2.0.0",
       "_model_name": "HTMLStyleModel",
       "_view_count": null,
       "_view_module": "@jupyter-widgets/base",
       "_view_module_version": "2.0.0",
       "_view_name": "StyleView",
       "background": null,
       "description_width": "",
       "font_size": null,
       "text_color": null
      }
     },
     "a2f13a6f9d58470388ef4f37df595183": {
      "model_module": "@jupyter-widgets/base",
      "model_module_version": "2.0.0",
      "model_name": "LayoutModel",
      "state": {
       "_model_module": "@jupyter-widgets/base",
       "_model_module_version": "2.0.0",
       "_model_name": "LayoutModel",
       "_view_count": null,
       "_view_module": "@jupyter-widgets/base",
       "_view_module_version": "2.0.0",
       "_view_name": "LayoutView",
       "align_content": null,
       "align_items": null,
       "align_self": null,
       "border_bottom": null,
       "border_left": null,
       "border_right": null,
       "border_top": null,
       "bottom": null,
       "display": null,
       "flex": null,
       "flex_flow": null,
       "grid_area": null,
       "grid_auto_columns": null,
       "grid_auto_flow": null,
       "grid_auto_rows": null,
       "grid_column": null,
       "grid_gap": null,
       "grid_row": null,
       "grid_template_areas": null,
       "grid_template_columns": null,
       "grid_template_rows": null,
       "height": null,
       "justify_content": null,
       "justify_items": null,
       "left": null,
       "margin": null,
       "max_height": null,
       "max_width": null,
       "min_height": null,
       "min_width": null,
       "object_fit": null,
       "object_position": null,
       "order": null,
       "overflow": null,
       "padding": null,
       "right": null,
       "top": null,
       "visibility": null,
       "width": null
      }
     },
     "afbb0a6f00764fe4aa4fa4c91b25d6f6": {
      "model_module": "@jupyter-widgets/controls",
      "model_module_version": "2.0.0",
      "model_name": "HTMLModel",
      "state": {
       "_dom_classes": [],
       "_model_module": "@jupyter-widgets/controls",
       "_model_module_version": "2.0.0",
       "_model_name": "HTMLModel",
       "_view_count": null,
       "_view_module": "@jupyter-widgets/controls",
       "_view_module_version": "2.0.0",
       "_view_name": "HTMLView",
       "description": "",
       "description_allow_html": false,
       "layout": "IPY_MODEL_e4dc8f92d14941168b2ace8e2c824594",
       "placeholder": "​",
       "style": "IPY_MODEL_8d2556db39c940999899a3b782e0b9cf",
       "tabbable": null,
       "tooltip": null,
       "value": " 50/50 [1:05:01&lt;00:00, 78.55s/it]"
      }
     },
     "bb43e9a28c124ddebc1a9a338b63fb8d": {
      "model_module": "@jupyter-widgets/controls",
      "model_module_version": "2.0.0",
      "model_name": "HTMLModel",
      "state": {
       "_dom_classes": [],
       "_model_module": "@jupyter-widgets/controls",
       "_model_module_version": "2.0.0",
       "_model_name": "HTMLModel",
       "_view_count": null,
       "_view_module": "@jupyter-widgets/controls",
       "_view_module_version": "2.0.0",
       "_view_name": "HTMLView",
       "description": "",
       "description_allow_html": false,
       "layout": "IPY_MODEL_1f198be27fb74ff98274147fee59ece7",
       "placeholder": "​",
       "style": "IPY_MODEL_f4710fbd4bec447c8e55665ed39bb218",
       "tabbable": null,
       "tooltip": null,
       "value": "100%"
      }
     },
     "db416b70c9b64c8987fe6632a79d86c1": {
      "model_module": "@jupyter-widgets/controls",
      "model_module_version": "2.0.0",
      "model_name": "ProgressStyleModel",
      "state": {
       "_model_module": "@jupyter-widgets/controls",
       "_model_module_version": "2.0.0",
       "_model_name": "ProgressStyleModel",
       "_view_count": null,
       "_view_module": "@jupyter-widgets/base",
       "_view_module_version": "2.0.0",
       "_view_name": "StyleView",
       "bar_color": null,
       "description_width": ""
      }
     },
     "e4dc8f92d14941168b2ace8e2c824594": {
      "model_module": "@jupyter-widgets/base",
      "model_module_version": "2.0.0",
      "model_name": "LayoutModel",
      "state": {
       "_model_module": "@jupyter-widgets/base",
       "_model_module_version": "2.0.0",
       "_model_name": "LayoutModel",
       "_view_count": null,
       "_view_module": "@jupyter-widgets/base",
       "_view_module_version": "2.0.0",
       "_view_name": "LayoutView",
       "align_content": null,
       "align_items": null,
       "align_self": null,
       "border_bottom": null,
       "border_left": null,
       "border_right": null,
       "border_top": null,
       "bottom": null,
       "display": null,
       "flex": null,
       "flex_flow": null,
       "grid_area": null,
       "grid_auto_columns": null,
       "grid_auto_flow": null,
       "grid_auto_rows": null,
       "grid_column": null,
       "grid_gap": null,
       "grid_row": null,
       "grid_template_areas": null,
       "grid_template_columns": null,
       "grid_template_rows": null,
       "height": null,
       "justify_content": null,
       "justify_items": null,
       "left": null,
       "margin": null,
       "max_height": null,
       "max_width": null,
       "min_height": null,
       "min_width": null,
       "object_fit": null,
       "object_position": null,
       "order": null,
       "overflow": null,
       "padding": null,
       "right": null,
       "top": null,
       "visibility": null,
       "width": null
      }
     },
     "f4710fbd4bec447c8e55665ed39bb218": {
      "model_module": "@jupyter-widgets/controls",
      "model_module_version": "2.0.0",
      "model_name": "HTMLStyleModel",
      "state": {
       "_model_module": "@jupyter-widgets/controls",
       "_model_module_version": "2.0.0",
       "_model_name": "HTMLStyleModel",
       "_view_count": null,
       "_view_module": "@jupyter-widgets/base",
       "_view_module_version": "2.0.0",
       "_view_name": "StyleView",
       "background": null,
       "description_width": "",
       "font_size": null,
       "text_color": null
      }
     }
    },
    "version_major": 2,
    "version_minor": 0
   }
  }
 },
 "nbformat": 4,
 "nbformat_minor": 5
}
