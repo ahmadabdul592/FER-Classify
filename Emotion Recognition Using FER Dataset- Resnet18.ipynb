{
 "cells": [
  {
   "cell_type": "markdown",
   "id": "8ff7705f",
   "metadata": {
    "papermill": {
     "duration": 0.007033,
     "end_time": "2025-06-03T12:36:52.005169",
     "exception": false,
     "start_time": "2025-06-03T12:36:51.998136",
     "status": "completed"
    },
    "tags": []
   },
   "source": [
    "# Arewa Data Science Deep Learning with PyTorch Capstone Project - Group 5"
   ]
  },
  {
   "cell_type": "markdown",
   "id": "4d10ac2f",
   "metadata": {
    "papermill": {
     "duration": 0.005647,
     "end_time": "2025-06-03T12:36:52.016939",
     "exception": false,
     "start_time": "2025-06-03T12:36:52.011292",
     "status": "completed"
    },
    "tags": []
   },
   "source": [
    "## Emotion Recognition from Static Facial Images Using Transfer Learning and CNN Architectures"
   ]
  },
  {
   "cell_type": "markdown",
   "id": "8fbf1a2d",
   "metadata": {
    "papermill": {
     "duration": 0.005709,
     "end_time": "2025-06-03T12:36:52.028472",
     "exception": false,
     "start_time": "2025-06-03T12:36:52.022763",
     "status": "completed"
    },
    "tags": []
   },
   "source": [
    "This notebook serves as the documenttion for the capstone project (group 5) for the Arewa Data Science Deep Learning with PyTorch Course.\n",
    "\n",
    "We finetuned a Computer Vision model capable of emotion recognition from static facial images using the FER2013 dataset. We also deployed the model on Huggingface."
   ]
  },
  {
   "cell_type": "markdown",
   "id": "d62eb490",
   "metadata": {
    "papermill": {
     "duration": 0.005569,
     "end_time": "2025-06-03T12:36:52.039788",
     "exception": false,
     "start_time": "2025-06-03T12:36:52.034219",
     "status": "completed"
    },
    "tags": []
   },
   "source": [
    "Note:\n",
    "- Wandb is used to log all training metrics.\n",
    "\n",
    "- We defined dataset-specific functions to assist with the process including a directory search function, a stratified sampling validation split function, and a custom training function that implements early stopping.\n",
    "\n",
    "- Multiple versions were implemented before we settled on this version.\n",
    "\n",
    "- This is not the original notebook where the training occured, but a rewritten one meant to document the process.\n",
    "\n",
    "- The notebook was written in Kaggle. All paths need to be properly redefined if one wants to use it in a different environment. Same result will be obtained regardless."
   ]
  },
  {
   "cell_type": "markdown",
   "id": "30a95ede",
   "metadata": {
    "papermill": {
     "duration": 0.005967,
     "end_time": "2025-06-03T12:36:52.051504",
     "exception": false,
     "start_time": "2025-06-03T12:36:52.045537",
     "status": "completed"
    },
    "tags": []
   },
   "source": [
    "## Imports"
   ]
  },
  {
   "cell_type": "code",
   "execution_count": 1,
   "id": "a153e593",
   "metadata": {
    "execution": {
     "iopub.execute_input": "2025-06-03T12:36:52.064081Z",
     "iopub.status.busy": "2025-06-03T12:36:52.063819Z",
     "iopub.status.idle": "2025-06-03T12:37:06.604218Z",
     "shell.execute_reply": "2025-06-03T12:37:06.603609Z"
    },
    "papermill": {
     "duration": 14.548405,
     "end_time": "2025-06-03T12:37:06.605644",
     "exception": false,
     "start_time": "2025-06-03T12:36:52.057239",
     "status": "completed"
    },
    "tags": []
   },
   "outputs": [],
   "source": [
    "import numpy as np\n",
    "import pandas as pd\n",
    "import matplotlib.pyplot as plt\n",
    "import seaborn as sns\n",
    "import torch\n",
    "\n",
    "from torchvision import datasets\n",
    "from torch.utils.data import DataLoader, random_split\n",
    "from torch import nn, optim\n",
    "from torch.nn import functional as F\n",
    "import torchvision.transforms as T\n",
    "\n",
    "from typing import Dict, List, Tuple, Any\n",
    "from tqdm.auto import tqdm\n",
    "\n",
    "import wandb"
   ]
  },
  {
   "cell_type": "code",
   "execution_count": 2,
   "id": "9092924a",
   "metadata": {
    "execution": {
     "iopub.execute_input": "2025-06-03T12:37:06.619177Z",
     "iopub.status.busy": "2025-06-03T12:37:06.618695Z",
     "iopub.status.idle": "2025-06-03T12:37:06.637861Z",
     "shell.execute_reply": "2025-06-03T12:37:06.637365Z"
    },
    "papermill": {
     "duration": 0.027001,
     "end_time": "2025-06-03T12:37:06.638979",
     "exception": false,
     "start_time": "2025-06-03T12:37:06.611978",
     "status": "completed"
    },
    "tags": []
   },
   "outputs": [],
   "source": [
    "# for torchinfo\n",
    "try:\n",
    "    from torchinfo import summary\n",
    "except:\n",
    "    print(\"[INFO] Couldn't find torchinfo... installing it.\")\n",
    "    !pip install -q torchinfo\n",
    "    from torchinfo import summary"
   ]
  },
  {
   "cell_type": "code",
   "execution_count": 3,
   "id": "53bcb12f",
   "metadata": {
    "execution": {
     "iopub.execute_input": "2025-06-03T12:37:06.652179Z",
     "iopub.status.busy": "2025-06-03T12:37:06.651901Z",
     "iopub.status.idle": "2025-06-03T12:37:07.398011Z",
     "shell.execute_reply": "2025-06-03T12:37:07.397281Z"
    },
    "papermill": {
     "duration": 0.754039,
     "end_time": "2025-06-03T12:37:07.399276",
     "exception": false,
     "start_time": "2025-06-03T12:37:06.645237",
     "status": "completed"
    },
    "tags": []
   },
   "outputs": [
    {
     "name": "stderr",
     "output_type": "stream",
     "text": [
      "\u001b[34m\u001b[1mwandb\u001b[0m: Using wandb-core as the SDK backend.  Please refer to https://wandb.me/wandb-core for more information.\n",
      "\u001b[34m\u001b[1mwandb\u001b[0m: \u001b[33mWARNING\u001b[0m If you're specifying your api key in code, ensure this code is not shared publicly.\n",
      "\u001b[34m\u001b[1mwandb\u001b[0m: \u001b[33mWARNING\u001b[0m Consider setting the WANDB_API_KEY environment variable, or running `wandb login` from the command line.\n",
      "\u001b[34m\u001b[1mwandb\u001b[0m: No netrc file found, creating one.\n",
      "\u001b[34m\u001b[1mwandb\u001b[0m: Appending key for api.wandb.ai to your netrc file: /root/.netrc\n",
      "\u001b[34m\u001b[1mwandb\u001b[0m: Currently logged in as: \u001b[33mlazymonster\u001b[0m (\u001b[33mlazymonster-my-company\u001b[0m) to \u001b[32mhttps://api.wandb.ai\u001b[0m. Use \u001b[1m`wandb login --relogin`\u001b[0m to force relogin\n"
     ]
    },
    {
     "data": {
      "text/plain": [
       "True"
      ]
     },
     "execution_count": 3,
     "metadata": {},
     "output_type": "execute_result"
    }
   ],
   "source": [
    "# Wandb set up\n",
    "from kaggle_secrets import UserSecretsClient\n",
    "user_secrets = UserSecretsClient()\n",
    "secret_value_0 = user_secrets.get_secret(\"wandb\")\n",
    "wandb.login(key=secret_value_0)"
   ]
  },
  {
   "cell_type": "code",
   "execution_count": 4,
   "id": "1d293adf",
   "metadata": {
    "execution": {
     "iopub.execute_input": "2025-06-03T12:37:07.413279Z",
     "iopub.status.busy": "2025-06-03T12:37:07.412896Z",
     "iopub.status.idle": "2025-06-03T12:37:07.477442Z",
     "shell.execute_reply": "2025-06-03T12:37:07.476846Z"
    },
    "papermill": {
     "duration": 0.072565,
     "end_time": "2025-06-03T12:37:07.478488",
     "exception": false,
     "start_time": "2025-06-03T12:37:07.405923",
     "status": "completed"
    },
    "tags": []
   },
   "outputs": [
    {
     "data": {
      "text/plain": [
       "'cuda'"
      ]
     },
     "execution_count": 4,
     "metadata": {},
     "output_type": "execute_result"
    }
   ],
   "source": [
    "# for device agnostic code\n",
    "device = \"cuda\" if torch.cuda.is_available() else \"cpu\"\n",
    "device"
   ]
  },
  {
   "cell_type": "markdown",
   "id": "6ed6ae17",
   "metadata": {
    "papermill": {
     "duration": 0.006109,
     "end_time": "2025-06-03T12:37:07.491236",
     "exception": false,
     "start_time": "2025-06-03T12:37:07.485127",
     "status": "completed"
    },
    "tags": []
   },
   "source": [
    "## Get the dataset from Kaggle"
   ]
  },
  {
   "cell_type": "markdown",
   "id": "ff94fdcf",
   "metadata": {
    "papermill": {
     "duration": 0.006094,
     "end_time": "2025-06-03T12:37:07.503478",
     "exception": false,
     "start_time": "2025-06-03T12:37:07.497384",
     "status": "completed"
    },
    "tags": []
   },
   "source": [
    "Here we load the full training  data and take a peek at one of them:"
   ]
  },
  {
   "cell_type": "code",
   "execution_count": 5,
   "id": "ff6082cb",
   "metadata": {
    "execution": {
     "iopub.execute_input": "2025-06-03T12:37:07.516904Z",
     "iopub.status.busy": "2025-06-03T12:37:07.516635Z",
     "iopub.status.idle": "2025-06-03T12:38:30.852940Z",
     "shell.execute_reply": "2025-06-03T12:38:30.852198Z"
    },
    "papermill": {
     "duration": 83.352422,
     "end_time": "2025-06-03T12:38:30.862052",
     "exception": false,
     "start_time": "2025-06-03T12:37:07.509630",
     "status": "completed"
    },
    "tags": []
   },
   "outputs": [
    {
     "data": {
      "image/jpeg": "[encoded data removed]",
      "image/png": "[encoded data removed]",
      "text/plain": [
       "<PIL.Image.Image image mode=RGB size=48x48>"
      ]
     },
     "execution_count": 5,
     "metadata": {},
     "output_type": "execute_result"
    }
   ],
   "source": [
    "full_data = datasets.ImageFolder('/kaggle/input/fer2013/train')\n",
    "full_data[0][0]"
   ]
  },
  {
   "cell_type": "code",
   "execution_count": 6,
   "id": "df0ea513",
   "metadata": {
    "execution": {
     "iopub.execute_input": "2025-06-03T12:38:30.877890Z",
     "iopub.status.busy": "2025-06-03T12:38:30.877626Z",
     "iopub.status.idle": "2025-06-03T12:38:30.882928Z",
     "shell.execute_reply": "2025-06-03T12:38:30.882147Z"
    },
    "papermill": {
     "duration": 0.014784,
     "end_time": "2025-06-03T12:38:30.884307",
     "exception": false,
     "start_time": "2025-06-03T12:38:30.869523",
     "status": "completed"
    },
    "tags": []
   },
   "outputs": [
    {
     "data": {
      "text/plain": [
       "'angry'"
      ]
     },
     "execution_count": 6,
     "metadata": {},
     "output_type": "execute_result"
    }
   ],
   "source": [
    "full_data.classes[full_data[0][1]]"
   ]
  },
  {
   "cell_type": "markdown",
   "id": "934c7fb9",
   "metadata": {
    "papermill": {
     "duration": 0.00797,
     "end_time": "2025-06-03T12:38:30.899814",
     "exception": false,
     "start_time": "2025-06-03T12:38:30.891844",
     "status": "completed"
    },
    "tags": []
   },
   "source": [
    "# Split the data into train and validation sets"
   ]
  },
  {
   "cell_type": "markdown",
   "id": "af01671e",
   "metadata": {
    "papermill": {
     "duration": 0.007486,
     "end_time": "2025-06-03T12:38:30.914782",
     "exception": false,
     "start_time": "2025-06-03T12:38:30.907296",
     "status": "completed"
    },
    "tags": []
   },
   "source": [
    "To get a useful validation set, we have to perform a stratified split on the dataet. This is the only way the validation set would be balanced and properly representative of the dataset.\n",
    "\n",
    "To do this, we choose the percentage we want for the validation set and randomly select that percentage from each label (folder), afterwards concatenating them together to form the new validation set."
   ]
  },
  {
   "cell_type": "markdown",
   "id": "07d772ef",
   "metadata": {
    "papermill": {
     "duration": 0.007338,
     "end_time": "2025-06-03T12:38:30.929586",
     "exception": false,
     "start_time": "2025-06-03T12:38:30.922248",
     "status": "completed"
    },
    "tags": []
   },
   "source": [
    "We have written a function to do this.\n",
    "\n",
    "The function takes in the following inputs:\n",
    "\n",
    "- path (path string containing the training dataset)\n",
    "\n",
    "- valid_pct (chosen percentage of data to use as validation)\n",
    "\n",
    "- transforms (a list of transforms, one for the final training set and another for the final validation set)\n",
    "\n",
    "- seed (random seed to ensure the same validation split over multiple runs)\n",
    "\n",
    "\n",
    "The function works by going through the following steps:\n",
    "\n",
    "- Read in the training data and create the dataset\n",
    "\n",
    "- Create datasets for each class\n",
    "\n",
    "- Store datasets in a list\n",
    "\n",
    "- Iterate over the list of datasets\n",
    "\n",
    "- In each iteration,\n",
    "\n",
    "    - compute the train/val sizes\n",
    "    - randomly select the appropriate number of images for the sets\n",
    "    - add the train set to a train list, and the val set to a val list\n",
    "- Concatenate the train list to a full train dataset and the val list to a full val dataset"
   ]
  },
  {
   "cell_type": "code",
   "execution_count": 7,
   "id": "8147437b",
   "metadata": {
    "execution": {
     "iopub.execute_input": "2025-06-03T12:38:30.997286Z",
     "iopub.status.busy": "2025-06-03T12:38:30.996784Z",
     "iopub.status.idle": "2025-06-03T12:38:31.004900Z",
     "shell.execute_reply": "2025-06-03T12:38:31.004238Z"
    },
    "papermill": {
     "duration": 0.017458,
     "end_time": "2025-06-03T12:38:31.006121",
     "exception": false,
     "start_time": "2025-06-03T12:38:30.988663",
     "status": "completed"
    },
    "tags": []
   },
   "outputs": [],
   "source": [
    "from torchvision.datasets import ImageFolder\n",
    "from torch.utils.data import Subset, random_split, Dataset, ConcatDataset\n",
    "from collections import defaultdict\n",
    "import os\n",
    "\n",
    "def fer_train_val(path, valid_pct, transforms, seed=42):\n",
    "\n",
    "  # Step 1: Read data and create dataset\n",
    "  dataset = ImageFolder(root=path, transform=transforms[0])\n",
    "\n",
    "  # Step 2: Create datasets for each class:\n",
    "\n",
    "  # - Mapping from class name to class index\n",
    "  class_to_idx = dataset.class_to_idx\n",
    "  idx_to_class = {v: k for k, v in class_to_idx.items()}\n",
    "\n",
    "  # - Group indices by class (using string keys)\n",
    "  class_indices = defaultdict(list)\n",
    "  for i, (_, label) in enumerate(dataset.samples):\n",
    "      class_indices[str(label)].append(i)\n",
    "\n",
    "  # - Create a separate dataset for each class\n",
    "  class_datasets = {}\n",
    "  for class_idx_str, indices in class_indices.items():\n",
    "      class_idx = int(class_idx_str)\n",
    "      class_name = idx_to_class[class_idx]\n",
    "      class_datasets[class_name] = Subset(dataset, indices)\n",
    "\n",
    "  # Step 3: Store datasets in a list\n",
    "  dataset_list = list(class_datasets.values())\n",
    "\n",
    "  train_datasets = list()\n",
    "  val_datasets = list()\n",
    "\n",
    "  generator = torch.Generator().manual_seed(seed) # setting the random seed\n",
    "\n",
    "  # Step 4: Loop through dataset_list and compute the validation and training sets\n",
    "  for class_ds in dataset_list:\n",
    "    val_size = int(valid_pct * len(class_ds))  # valid_pct% for validation\n",
    "    train_size = len(class_ds) - val_size  # remaining% for training\n",
    "    train_dataset, val_dataset = random_split(class_ds, [train_size, val_size], generator=generator)\n",
    "    train_datasets.append(train_dataset)\n",
    "    val_datasets.append(val_dataset)\n",
    "\n",
    "  # Step 5: Concatenate the datasets into train and val sets\n",
    "  train = ConcatDataset(train_datasets)\n",
    "  val = ConcatDataset(val_datasets)\n",
    "  train.transform = transforms[0]\n",
    "  val.transform = transforms[1]\n",
    "\n",
    "  return train, val\n"
   ]
  },
  {
   "cell_type": "markdown",
   "id": "01812e42",
   "metadata": {
    "papermill": {
     "duration": 0.007128,
     "end_time": "2025-06-03T12:38:31.020235",
     "exception": false,
     "start_time": "2025-06-03T12:38:31.013107",
     "status": "completed"
    },
    "tags": []
   },
   "source": [
    "## Model Training - Resnet18"
   ]
  },
  {
   "cell_type": "markdown",
   "id": "61378b81",
   "metadata": {
    "papermill": {
     "duration": 0.006891,
     "end_time": "2025-06-03T12:38:31.033887",
     "exception": false,
     "start_time": "2025-06-03T12:38:31.026996",
     "status": "completed"
    },
    "tags": []
   },
   "source": [
    "### Load the model"
   ]
  },
  {
   "cell_type": "code",
   "execution_count": 8,
   "id": "ab0d3e03",
   "metadata": {
    "execution": {
     "iopub.execute_input": "2025-06-03T12:38:31.048425Z",
     "iopub.status.busy": "2025-06-03T12:38:31.048191Z",
     "iopub.status.idle": "2025-06-03T12:38:31.600972Z",
     "shell.execute_reply": "2025-06-03T12:38:31.599860Z"
    },
    "papermill": {
     "duration": 0.561609,
     "end_time": "2025-06-03T12:38:31.602426",
     "exception": false,
     "start_time": "2025-06-03T12:38:31.040817",
     "status": "completed"
    },
    "tags": []
   },
   "outputs": [
    {
     "name": "stderr",
     "output_type": "stream",
     "text": [
      "Downloading: \"https://download.pytorch.org/models/resnet18-f37072fd.pth\" to /root/.cache/torch/hub/checkpoints/resnet18-f37072fd.pth\n",
      "100%|██████████| 44.7M/44.7M [00:00<00:00, 192MB/s]\n"
     ]
    }
   ],
   "source": [
    "from torchvision.models import resnet18, ResNet18_Weights\n",
    "\n",
    "resnet_model = resnet18(weights=ResNet18_Weights.DEFAULT)"
   ]
  },
  {
   "cell_type": "markdown",
   "id": "ead120c4",
   "metadata": {
    "papermill": {
     "duration": 0.006934,
     "end_time": "2025-06-03T12:38:31.616656",
     "exception": false,
     "start_time": "2025-06-03T12:38:31.609722",
     "status": "completed"
    },
    "tags": []
   },
   "source": [
    "### Preparing the model for fine tuning"
   ]
  },
  {
   "cell_type": "markdown",
   "id": "596afbe7",
   "metadata": {
    "papermill": {
     "duration": 0.006671,
     "end_time": "2025-06-03T12:38:31.630265",
     "exception": false,
     "start_time": "2025-06-03T12:38:31.623594",
     "status": "completed"
    },
    "tags": []
   },
   "source": [
    "After experimentation, we found that while the model trained faster if we froze its base layers, the accuracy was abysmal (starting from 33% and training up to 42% max), despite applying many transformations and optimizations. Compared to the iteration during which we applied no optimizations at all (starting from 64% and training up to 68%), it was much worse.\n",
    "\n",
    "This led us to conclude that the top layer alone was not enough to accurately represent the dataset and understandably so. Resnet18 wasn't trained to distinguish between emotions and therefore would do poorly out of the box on the FER2013 dataset. To do better, we would need to fine-tune some of the base layers as well."
   ]
  },
  {
   "cell_type": "markdown",
   "id": "190e2bd4",
   "metadata": {
    "papermill": {
     "duration": 0.00668,
     "end_time": "2025-06-03T12:38:31.644090",
     "exception": false,
     "start_time": "2025-06-03T12:38:31.637410",
     "status": "completed"
    },
    "tags": []
   },
   "source": [
    "Let's take a look at the final fully connected layer:"
   ]
  },
  {
   "cell_type": "code",
   "execution_count": 9,
   "id": "30f4569d",
   "metadata": {
    "execution": {
     "iopub.execute_input": "2025-06-03T12:38:31.658797Z",
     "iopub.status.busy": "2025-06-03T12:38:31.658515Z",
     "iopub.status.idle": "2025-06-03T12:38:31.663088Z",
     "shell.execute_reply": "2025-06-03T12:38:31.662563Z"
    },
    "papermill": {
     "duration": 0.013423,
     "end_time": "2025-06-03T12:38:31.664251",
     "exception": false,
     "start_time": "2025-06-03T12:38:31.650828",
     "status": "completed"
    },
    "tags": []
   },
   "outputs": [
    {
     "data": {
      "text/plain": [
       "Linear(in_features=512, out_features=1000, bias=True)"
      ]
     },
     "execution_count": 9,
     "metadata": {},
     "output_type": "execute_result"
    }
   ],
   "source": [
    "resnet_model.fc"
   ]
  },
  {
   "cell_type": "markdown",
   "id": "454fec9d",
   "metadata": {
    "papermill": {
     "duration": 0.006738,
     "end_time": "2025-06-03T12:38:31.677998",
     "exception": false,
     "start_time": "2025-06-03T12:38:31.671260",
     "status": "completed"
    },
    "tags": []
   },
   "source": [
    "It has 512 input features and 1000 output features, but we want it to output only 7 classes instead.\n",
    "\n",
    "We therefore replace this last layer with our own layer which will output only 7 outputs (one for each of our classes)."
   ]
  },
  {
   "cell_type": "code",
   "execution_count": 10,
   "id": "daac83d1",
   "metadata": {
    "execution": {
     "iopub.execute_input": "2025-06-03T12:38:31.692486Z",
     "iopub.status.busy": "2025-06-03T12:38:31.692256Z",
     "iopub.status.idle": "2025-06-03T12:38:31.872716Z",
     "shell.execute_reply": "2025-06-03T12:38:31.872129Z"
    },
    "papermill": {
     "duration": 0.189126,
     "end_time": "2025-06-03T12:38:31.873905",
     "exception": false,
     "start_time": "2025-06-03T12:38:31.684779",
     "status": "completed"
    },
    "tags": []
   },
   "outputs": [
    {
     "data": {
      "text/plain": [
       "Sequential(\n",
       "  (0): Linear(in_features=512, out_features=512, bias=True)\n",
       "  (1): ReLU()\n",
       "  (2): Dropout(p=0.5, inplace=False)\n",
       "  (3): Linear(in_features=512, out_features=256, bias=True)\n",
       "  (4): ReLU()\n",
       "  (5): Dropout(p=0.5, inplace=False)\n",
       "  (6): Linear(in_features=256, out_features=7, bias=True)\n",
       ")"
      ]
     },
     "execution_count": 10,
     "metadata": {},
     "output_type": "execute_result"
    }
   ],
   "source": [
    "# Get the number of input features for the final fully connected layer\n",
    "num_ftrs = resnet_model.fc.in_features\n",
    "num_classes = 7 # no of classes in our data\n",
    "\n",
    "# Replace the final fully connected layer\n",
    "resnet_model.fc = nn.Sequential(\n",
    "    # First hidden layer (Input: num_ftrs, Output: 512 nodes)\n",
    "    nn.Linear(num_ftrs, 512),\n",
    "    nn.ReLU(),\n",
    "    nn.Dropout(0.5), # Slightly higher dropout rate example\n",
    "\n",
    "    # Second hidden layer (Input: 512, Output: 256 nodes)\n",
    "    nn.Linear(512, 256),\n",
    "    nn.ReLU(),\n",
    "    nn.Dropout(0.5), # Apply dropout again\n",
    "\n",
    "    # Output layer (Input: 256, Output: 7 classes)\n",
    "    nn.Linear(256, 7)\n",
    ")\n",
    "\n",
    "# Move model to device\n",
    "resnet_model.to(device)\n",
    "\n",
    "# Look at the final layer again\n",
    "resnet_model.fc"
   ]
  },
  {
   "cell_type": "markdown",
   "id": "d7dc7265",
   "metadata": {
    "papermill": {
     "duration": 0.006906,
     "end_time": "2025-06-03T12:38:31.888196",
     "exception": false,
     "start_time": "2025-06-03T12:38:31.881290",
     "status": "completed"
    },
    "tags": []
   },
   "source": [
    "## Creating training and validation dataloaders"
   ]
  },
  {
   "cell_type": "markdown",
   "id": "5f53e1fd",
   "metadata": {
    "papermill": {
     "duration": 0.006861,
     "end_time": "2025-06-03T12:38:31.902163",
     "exception": false,
     "start_time": "2025-06-03T12:38:31.895302",
     "status": "completed"
    },
    "tags": []
   },
   "source": [
    "The resnet18 model is a pretrained model, so we have to transform our data into a form that is compatible with it. For example, the images in our dataset are grayscale (1 channel), but resnet18 was trained on 3-channel images."
   ]
  },
  {
   "cell_type": "markdown",
   "id": "5fa5a271",
   "metadata": {
    "papermill": {
     "duration": 0.006745,
     "end_time": "2025-06-03T12:38:31.915829",
     "exception": false,
     "start_time": "2025-06-03T12:38:31.909084",
     "status": "completed"
    },
    "tags": []
   },
   "source": [
    "These are the original transforms applied to the Resnet18 model:"
   ]
  },
  {
   "cell_type": "code",
   "execution_count": 11,
   "id": "59019380",
   "metadata": {
    "execution": {
     "iopub.execute_input": "2025-06-03T12:38:31.930828Z",
     "iopub.status.busy": "2025-06-03T12:38:31.930548Z",
     "iopub.status.idle": "2025-06-03T12:38:31.935081Z",
     "shell.execute_reply": "2025-06-03T12:38:31.934495Z"
    },
    "papermill": {
     "duration": 0.013562,
     "end_time": "2025-06-03T12:38:31.936194",
     "exception": false,
     "start_time": "2025-06-03T12:38:31.922632",
     "status": "completed"
    },
    "tags": []
   },
   "outputs": [
    {
     "data": {
      "text/plain": [
       "ImageClassification(\n",
       "    crop_size=[224]\n",
       "    resize_size=[256]\n",
       "    mean=[0.485, 0.456, 0.406]\n",
       "    std=[0.229, 0.224, 0.225]\n",
       "    interpolation=InterpolationMode.BILINEAR\n",
       ")"
      ]
     },
     "execution_count": 11,
     "metadata": {},
     "output_type": "execute_result"
    }
   ],
   "source": [
    "# the original transforms for the model\n",
    "ResNet18_Weights.DEFAULT.transforms()"
   ]
  },
  {
   "cell_type": "markdown",
   "id": "7956a5d4",
   "metadata": {
    "papermill": {
     "duration": 0.006781,
     "end_time": "2025-06-03T12:38:31.950049",
     "exception": false,
     "start_time": "2025-06-03T12:38:31.943268",
     "status": "completed"
    },
    "tags": []
   },
   "source": [
    "Let's define new transforms that would work well with the Resnet18 model. These are the transforms that we would use with our stratified split function, `fer_train_val`:"
   ]
  },
  {
   "cell_type": "code",
   "execution_count": 12,
   "id": "68cc938b",
   "metadata": {
    "execution": {
     "iopub.execute_input": "2025-06-03T12:38:31.965532Z",
     "iopub.status.busy": "2025-06-03T12:38:31.965313Z",
     "iopub.status.idle": "2025-06-03T12:38:31.970669Z",
     "shell.execute_reply": "2025-06-03T12:38:31.970137Z"
    },
    "papermill": {
     "duration": 0.01454,
     "end_time": "2025-06-03T12:38:31.971819",
     "exception": false,
     "start_time": "2025-06-03T12:38:31.957279",
     "status": "completed"
    },
    "tags": []
   },
   "outputs": [],
   "source": [
    "# ImageNet mean and std deviation (for 3 channels) - necessary because the pretrained model was trained with these\n",
    "IMAGENET_MEAN = [0.485, 0.456, 0.406]\n",
    "IMAGENET_STD = [0.229, 0.224, 0.225]\n",
    "TARGET_SIZE = 224 # The spatial size expected by the pretrained ResNet-18 after transforms\n",
    "\n",
    "# Transforms for the training set (includes augmentation)\n",
    "train_transforms_resnet = T.Compose([\n",
    "    T.Grayscale(num_output_channels=3), # Convert 1-channel grayscale to 3 channels by repeating\n",
    "    T.Resize(256),                      # Resize the image (typically the shorter side) to 256\n",
    "    T.RandomCrop(TARGET_SIZE),          # Take a random 224x224 crop for data augmentation\n",
    "    T.RandomHorizontalFlip(),           # Standard data augmentation\n",
    "    T.RandomRotation(degrees=10),       # add slight rotation\n",
    "    T.ColorJitter(brightness=0.2, contrast=0.2), # add brightness/contrast jitter\n",
    "    T.ToTensor(),                       # Convert PIL Image to PyTorch Tensor (scales to [0, 1])\n",
    "    T.Normalize(mean=IMAGENET_MEAN, std=IMAGENET_STD) # Normalize with ImageNet values\n",
    "])\n",
    "\n",
    "# Transforms for the validation/testing set (deterministic preprocessing)\n",
    "val_transforms_resnet = T.Compose([\n",
    "    T.Grayscale(num_output_channels=3), # Convert 1-channel grayscale to 3 channels\n",
    "    T.Resize(256),                      # Resize the image (typically the shorter side) to 256\n",
    "    T.CenterCrop(TARGET_SIZE),          # Take the central 224x224 crop for evaluation\n",
    "    T.ToTensor(),                       # Convert PIL Image to PyTorch Tensor (scales to [0, 1])\n",
    "    T.Normalize(mean=IMAGENET_MEAN, std=IMAGENET_STD) # Normalize with ImageNet values\n",
    "])\n"
   ]
  },
  {
   "cell_type": "markdown",
   "id": "033e3f4f",
   "metadata": {
    "papermill": {
     "duration": 0.007155,
     "end_time": "2025-06-03T12:38:31.986160",
     "exception": false,
     "start_time": "2025-06-03T12:38:31.979005",
     "status": "completed"
    },
    "tags": []
   },
   "source": [
    "We get our train and val sets:"
   ]
  },
  {
   "cell_type": "code",
   "execution_count": 13,
   "id": "d0e35804",
   "metadata": {
    "execution": {
     "iopub.execute_input": "2025-06-03T12:38:32.001271Z",
     "iopub.status.busy": "2025-06-03T12:38:32.000981Z",
     "iopub.status.idle": "2025-06-03T12:38:49.396173Z",
     "shell.execute_reply": "2025-06-03T12:38:49.395601Z"
    },
    "papermill": {
     "duration": 17.404419,
     "end_time": "2025-06-03T12:38:49.397502",
     "exception": false,
     "start_time": "2025-06-03T12:38:31.993083",
     "status": "completed"
    },
    "tags": []
   },
   "outputs": [],
   "source": [
    "resnet_train, resnet_val = fer_train_val('/kaggle/input/fer2013/train', 0.2, [train_transforms_resnet,val_transforms_resnet])"
   ]
  },
  {
   "cell_type": "markdown",
   "id": "da13de46",
   "metadata": {
    "papermill": {
     "duration": 0.006908,
     "end_time": "2025-06-03T12:38:49.411823",
     "exception": false,
     "start_time": "2025-06-03T12:38:49.404915",
     "status": "completed"
    },
    "tags": []
   },
   "source": [
    "Create the dataloaders:"
   ]
  },
  {
   "cell_type": "code",
   "execution_count": 14,
   "id": "3cbafe66",
   "metadata": {
    "execution": {
     "iopub.execute_input": "2025-06-03T12:38:49.426636Z",
     "iopub.status.busy": "2025-06-03T12:38:49.426402Z",
     "iopub.status.idle": "2025-06-03T12:38:49.430333Z",
     "shell.execute_reply": "2025-06-03T12:38:49.429813Z"
    },
    "papermill": {
     "duration": 0.012597,
     "end_time": "2025-06-03T12:38:49.431362",
     "exception": false,
     "start_time": "2025-06-03T12:38:49.418765",
     "status": "completed"
    },
    "tags": []
   },
   "outputs": [],
   "source": [
    "batch_size = 32\n",
    "resnet_trn_loader = DataLoader(resnet_train, batch_size=batch_size, shuffle=True, num_workers=2)\n",
    "resnet_val_loader = DataLoader(resnet_val, batch_size=batch_size, shuffle=False, num_workers=2)"
   ]
  },
  {
   "cell_type": "markdown",
   "id": "9789549f",
   "metadata": {
    "papermill": {
     "duration": 0.006892,
     "end_time": "2025-06-03T12:38:49.445149",
     "exception": false,
     "start_time": "2025-06-03T12:38:49.438257",
     "status": "completed"
    },
    "tags": []
   },
   "source": [
    "## Defining the training functions"
   ]
  },
  {
   "cell_type": "markdown",
   "id": "0f8b4170",
   "metadata": {
    "papermill": {
     "duration": 0.00669,
     "end_time": "2025-06-03T12:38:49.458681",
     "exception": false,
     "start_time": "2025-06-03T12:38:49.451991",
     "status": "completed"
    },
    "tags": []
   },
   "source": [
    "The functions are defined below for modularity and ease of use. Early stopping has also been integrated into them to save computing resources and time."
   ]
  },
  {
   "cell_type": "code",
   "execution_count": 15,
   "id": "f64f86b4",
   "metadata": {
    "execution": {
     "iopub.execute_input": "2025-06-03T12:38:49.473621Z",
     "iopub.status.busy": "2025-06-03T12:38:49.473376Z",
     "iopub.status.idle": "2025-06-03T12:38:49.488404Z",
     "shell.execute_reply": "2025-06-03T12:38:49.487855Z"
    },
    "papermill": {
     "duration": 0.023851,
     "end_time": "2025-06-03T12:38:49.489384",
     "exception": false,
     "start_time": "2025-06-03T12:38:49.465533",
     "status": "completed"
    },
    "tags": []
   },
   "outputs": [],
   "source": [
    "import sys\n",
    "def train_step(model: torch.nn.Module, \n",
    "               dataloader: torch.utils.data.DataLoader, \n",
    "               loss_fn: torch.nn.Module, \n",
    "               optimizer: torch.optim.Optimizer,\n",
    "               device: torch.device,\n",
    "               scheduler: torch.optim.lr_scheduler.OneCycleLR) -> Tuple[float, float]:\n",
    "    \"\"\"Trains a PyTorch model for a single epoch.\n",
    "\n",
    "    Turns a target PyTorch model to training mode and then\n",
    "    runs through all of the required training steps (forward\n",
    "    pass, loss calculation, optimizer step).\n",
    "\n",
    "    Args:\n",
    "    model: A PyTorch model to be trained.\n",
    "    dataloader: A DataLoader instance for the model to be trained on.\n",
    "    loss_fn: A PyTorch loss function to minimize.\n",
    "    optimizer: A PyTorch optimizer to help minimize the loss function.\n",
    "    device: A target device to compute on (e.g. \"cuda\" or \"cpu\").\n",
    "\n",
    "    Returns:\n",
    "    A tuple of training loss and training accuracy metrics.\n",
    "    In the form (train_loss, train_accuracy). For example:\n",
    "\n",
    "    (0.1112, 0.8743)\n",
    "    \"\"\"\n",
    "    # Put model in train mode\n",
    "    model.train()\n",
    "\n",
    "    # Setup train loss and train accuracy values\n",
    "    train_loss, train_acc = 0, 0\n",
    "\n",
    "    # Loop through data loader data batches\n",
    "    for batch, (X, y) in enumerate(dataloader):\n",
    "        # Send data to target device\n",
    "        X, y = X.to(device), y.to(device)\n",
    "\n",
    "        # 1. Forward pass\n",
    "        y_pred = model(X)\n",
    "\n",
    "        # 2. Calculate  and accumulate loss\n",
    "        loss = loss_fn(y_pred, y)\n",
    "        train_loss += loss.item() \n",
    "\n",
    "        # 3. Optimizer zero grad\n",
    "        optimizer.zero_grad()\n",
    "\n",
    "        # 4. Loss backward\n",
    "        loss.backward()\n",
    "\n",
    "        # 5. Optimizer step\n",
    "        optimizer.step()\n",
    "\n",
    "        # 6. (added) Scheduler step\n",
    "        scheduler.step()\n",
    "        \n",
    "\n",
    "        # Calculate and accumulate accuracy metric across all batches\n",
    "        y_pred_class = torch.argmax(torch.softmax(y_pred, dim=1), dim=1)\n",
    "        train_acc += (y_pred_class == y).sum().item()/len(y_pred)\n",
    "\n",
    "    # Adjust metrics to get average loss and accuracy per batch \n",
    "    train_loss = train_loss / len(dataloader)\n",
    "    train_acc = train_acc / len(dataloader)\n",
    "    return train_loss, train_acc\n",
    "\n",
    "def test_step(model: torch.nn.Module, \n",
    "              dataloader: torch.utils.data.DataLoader, \n",
    "              loss_fn: torch.nn.Module,\n",
    "              device: torch.device) -> Tuple[float, float]:\n",
    "    \"\"\"Tests a PyTorch model for a single epoch.\n",
    "\n",
    "    Turns a target PyTorch model to \"eval\" mode and then performs\n",
    "    a forward pass on a testing dataset.\n",
    "\n",
    "    Args:\n",
    "    model: A PyTorch model to be tested.\n",
    "    dataloader: A DataLoader instance for the model to be tested on.\n",
    "    loss_fn: A PyTorch loss function to calculate loss on the test data.\n",
    "    device: A target device to compute on (e.g. \"cuda\" or \"cpu\").\n",
    "\n",
    "    Returns:\n",
    "    A tuple of testing loss and testing accuracy metrics.\n",
    "    In the form (test_loss, test_accuracy). For example:\n",
    "\n",
    "    (0.0223, 0.8985)\n",
    "    \"\"\"\n",
    "    # Put model in eval mode\n",
    "    model.eval() \n",
    "\n",
    "    # Setup test loss and test accuracy values\n",
    "    test_loss, test_acc = 0, 0\n",
    "\n",
    "    # Turn on inference context manager\n",
    "    with torch.inference_mode():\n",
    "        # Loop through DataLoader batches\n",
    "        for batch, (X, y) in enumerate(dataloader):\n",
    "            # Send data to target device\n",
    "            X, y = X.to(device), y.to(device)\n",
    "\n",
    "            # 1. Forward pass\n",
    "            test_pred_logits = model(X)\n",
    "\n",
    "            # 2. Calculate and accumulate loss\n",
    "            loss = loss_fn(test_pred_logits, y)\n",
    "            test_loss += loss.item()\n",
    "\n",
    "            # Calculate and accumulate accuracy\n",
    "            test_pred_labels = test_pred_logits.argmax(dim=1)\n",
    "            test_acc += ((test_pred_labels == y).sum().item()/len(test_pred_labels))\n",
    "\n",
    "    # Adjust metrics to get average loss and accuracy per batch \n",
    "    test_loss = test_loss / len(dataloader)\n",
    "    test_acc = test_acc / len(dataloader)\n",
    "    return test_loss, test_acc\n",
    "\n",
    "# EDITED FOR PERFORMANCE AND TO IMPLEMENT EARLY STOPPING\n",
    "\n",
    "def train(model: torch.nn.Module,\n",
    "          train_dataloader: torch.utils.data.DataLoader,\n",
    "          test_dataloader: torch.utils.data.DataLoader, # Renamed from test_dataloader to val_dataloader for clarity with validation set\n",
    "          optimizer: torch.optim.Optimizer,\n",
    "          loss_fn: torch.nn.Module,\n",
    "          epochs: int,\n",
    "          scheduler: torch.optim.lr_scheduler.OneCycleLR, # Type hint specific OneCycleLR as used\n",
    "          device: torch.device,\n",
    "          # --- Early Stopping Parameters ---\n",
    "          patience: int = 10, # How many epochs to wait for improvement before stopping\n",
    "          min_delta: float = 0.0 # Minimum change to qualify as improvement\n",
    "          # ---------------------------------\n",
    "         ) -> Dict[str, List[float]]:\n",
    "    \"\"\"Trains and tests a PyTorch model with Early Stopping.\n",
    "\n",
    "    Passes a target PyTorch models through train_step() and test_step()\n",
    "    functions for a number of epochs, training and testing the model\n",
    "    in the same epoch loop. Stops early if validation performance\n",
    "    doesn't improve for 'patience' epochs.\n",
    "\n",
    "    Calculates, prints and stores evaluation metrics throughout.\n",
    "    Saves the best model state based on validation accuracy.\n",
    "\n",
    "    Args:\n",
    "        model: A PyTorch model to be trained and tested.\n",
    "        train_dataloader: A DataLoader instance for the model to be trained on.\n",
    "        test_dataloader: A DataLoader instance for the model to be validated on.\n",
    "        optimizer: A PyTorch optimizer to help minimize the loss function.\n",
    "        loss_fn: A PyTorch loss function to calculate loss on both datasets.\n",
    "        epochs: An integer indicating how many epochs to train for (maximum).\n",
    "        scheduler: A PyTorch learning rate scheduler (assumed to be stepped per batch).\n",
    "        device: A target device to compute on (e.g. \"cuda\" or \"cpu\").\n",
    "        patience: Number of epochs to wait for improvement in validation accuracy.\n",
    "        min_delta: Minimum change in validation accuracy to be considered an improvement.\n",
    "\n",
    "    Returns:\n",
    "        A dictionary of training and testing loss as well as training and\n",
    "        testing accuracy metrics tracked per epoch. The input 'model' object\n",
    "        will be updated in-place with the best weights found during training\n",
    "        (based on validation accuracy).\n",
    "    \"\"\"\n",
    "    # Create empty results dictionary\n",
    "    results = {\"train_loss\": [],\n",
    "               \"train_acc\": [],\n",
    "               \"test_loss\": [], # Renamed from test_loss to val_loss\n",
    "               \"test_acc\": []  # Renamed from test_acc to val_acc\n",
    "    }\n",
    "\n",
    "    # --- Early Stopping Initialization ---\n",
    "    best_val_accuracy = -float('inf') # Initialize best accuracy to a very low value\n",
    "    patience_counter = 0             # Initialize patience counter\n",
    "    best_model_state_dict = None     # To store the state_dict of the best model\n",
    "    print(f\"Early stopping configured with patience={patience}, min_delta={min_delta}\")\n",
    "    # ------------------------------------\n",
    "\n",
    "\n",
    "    # Loop through training and testing steps for a number of epochs\n",
    "    for epoch in tqdm(range(epochs)):\n",
    "        # Assuming train_step includes scheduler.step() per batch\n",
    "        train_loss, train_acc = train_step(model=model,\n",
    "                                             dataloader=train_dataloader,\n",
    "                                             loss_fn=loss_fn,\n",
    "                                             optimizer=optimizer,\n",
    "                                             device=device,\n",
    "                                             scheduler=scheduler) # Pass scheduler\n",
    "\n",
    "        # Assuming test_step is the validation step\n",
    "        val_loss, val_acc = test_step(model=model, # Renamed test_step calls to clarify validation\n",
    "                                          dataloader=test_dataloader, # Using test_dataloader as val_dataloader\n",
    "                                          loss_fn=loss_fn,\n",
    "                                          device=device)\n",
    "\n",
    "        # Print out what's happening\n",
    "        print(\n",
    "            f\"Epoch: {epoch+1} | \"\n",
    "            f\"train_loss: {train_loss:.4f} | \"\n",
    "            f\"train_acc: {train_acc:.4f} | \"\n",
    "            f\"val_loss: {val_loss:.4f} | \" # Renamed print output\n",
    "            f\"val_acc: {val_acc:.4f}\"     # Renamed print output\n",
    "        )\n",
    "\n",
    "        # --- Early Stopping Logic ---\n",
    "        # Check for improvement in validation accuracy\n",
    "        if val_acc > best_val_accuracy + min_delta:\n",
    "            best_val_accuracy = val_acc\n",
    "            patience_counter = 0 # Reset patience counter on improvement\n",
    "            # Save the model state dictionary\n",
    "            # Use copy.deepcopy() to save a true copy, not just a reference\n",
    "            best_model_state_dict = deepcopy(model.state_dict())\n",
    "            print(f\"  Validation accuracy improved. Saving best model state (Acc: {best_val_accuracy:.4f})\")\n",
    "        else:\n",
    "            patience_counter += 1 # Increment patience counter if no improvement\n",
    "            print(f\"  Validation accuracy did not improve. Patience: {patience_counter}/{patience}\")\n",
    "\n",
    "        # Check if early stopping condition is met\n",
    "        if patience_counter >= patience:\n",
    "            print(f\"Early stopping triggered after {epoch + 1} epochs.\")\n",
    "            break # Exit the training loop\n",
    "\n",
    "        # --- End Early Stopping Logic ---\n",
    "        # Log metrics to wandb\n",
    "        run.log({\"epoch\": epoch+1,\n",
    "               \"train_loss\": train_loss,\n",
    "               \"train_acc\": train_acc,\n",
    "               \"test_loss\": val_loss,\n",
    "               \"test_acc\": val_acc})\n",
    "        \n",
    "        # Update results dictionary\n",
    "        results[\"train_loss\"].append(train_loss)\n",
    "        results[\"train_acc\"].append(train_acc)\n",
    "        results[\"test_loss\"].append(val_loss) # Store as test_loss in results dict for consistency if needed later\n",
    "        results[\"test_acc\"].append(val_acc)   # Store as test_acc in results dict\n",
    "\n",
    "\n",
    "    # --- Load the best model state after training stops ---\n",
    "    if best_model_state_dict is not None:\n",
    "        print(\"Loading best model state found during training.\")\n",
    "        model.load_state_dict(best_model_state_dict)\n",
    "    else:\n",
    "         print(\"No improvement was found during training. Using the model from the last epoch.\")\n",
    "\n",
    "\n",
    "    # Return the filled results at the end of the epochs\n",
    "    return results"
   ]
  },
  {
   "cell_type": "markdown",
   "id": "84f587db",
   "metadata": {
    "papermill": {
     "duration": 0.006786,
     "end_time": "2025-06-03T12:38:49.503259",
     "exception": false,
     "start_time": "2025-06-03T12:38:49.496473",
     "status": "completed"
    },
    "tags": []
   },
   "source": [
    "## Set up configuration"
   ]
  },
  {
   "cell_type": "markdown",
   "id": "42d79b41",
   "metadata": {
    "papermill": {
     "duration": 0.006737,
     "end_time": "2025-06-03T12:38:49.516787",
     "exception": false,
     "start_time": "2025-06-03T12:38:49.510050",
     "status": "completed"
    },
    "tags": []
   },
   "source": [
    "The `lr_find` function of Fastai is really good, so we use it here:"
   ]
  },
  {
   "cell_type": "code",
   "execution_count": 16,
   "id": "921efd10",
   "metadata": {
    "execution": {
     "iopub.execute_input": "2025-06-03T12:38:49.531511Z",
     "iopub.status.busy": "2025-06-03T12:38:49.531235Z",
     "iopub.status.idle": "2025-06-03T12:38:51.615253Z",
     "shell.execute_reply": "2025-06-03T12:38:51.614672Z"
    },
    "papermill": {
     "duration": 2.093023,
     "end_time": "2025-06-03T12:38:51.616657",
     "exception": false,
     "start_time": "2025-06-03T12:38:49.523634",
     "status": "completed"
    },
    "tags": []
   },
   "outputs": [],
   "source": [
    "# importing fastai\n",
    "from fastai.vision.all import *\n",
    "\n",
    "# defining the DataLoaders object in FastAI using both train and val datasets\n",
    "dls = DataLoaders(resnet_trn_loader, resnet_val_loader)\n",
    "\n",
    "# wrapping our dataloader in a fastai learner\n",
    "learn = Learner(\n",
    "    dls, resnet_model,\n",
    "    loss_func=CrossEntropyLossFlat(), \n",
    "    opt_func=SGD,\n",
    "    metrics=accuracy\n",
    ")"
   ]
  },
  {
   "cell_type": "code",
   "execution_count": 17,
   "id": "86206741",
   "metadata": {
    "execution": {
     "iopub.execute_input": "2025-06-03T12:38:51.632445Z",
     "iopub.status.busy": "2025-06-03T12:38:51.632038Z",
     "iopub.status.idle": "2025-06-03T12:39:13.192954Z",
     "shell.execute_reply": "2025-06-03T12:39:13.192157Z"
    },
    "papermill": {
     "duration": 21.569958,
     "end_time": "2025-06-03T12:39:13.194241",
     "exception": false,
     "start_time": "2025-06-03T12:38:51.624283",
     "status": "completed"
    },
    "tags": []
   },
   "outputs": [
    {
     "data": {
      "text/html": [
       "\n",
       "<style>\n",
       "    /* Turns off some styling */\n",
       "    progress {\n",
       "        /* gets rid of default border in Firefox and Opera. */\n",
       "        border: none;\n",
       "        /* Needs to be in here for Safari polyfill so background images work as expected. */\n",
       "        background-size: auto;\n",
       "    }\n",
       "    progress:not([value]), progress:not([value])::-webkit-progress-bar {\n",
       "        background: repeating-linear-gradient(45deg, #7e7e7e, #7e7e7e 10px, #5c5c5c 10px, #5c5c5c 20px);\n",
       "    }\n",
       "    .progress-bar-interrupted, .progress-bar-interrupted::-webkit-progress-bar {\n",
       "        background: #F44336;\n",
       "    }\n",
       "</style>\n"
      ],
      "text/plain": [
       "<IPython.core.display.HTML object>"
      ]
     },
     "metadata": {},
     "output_type": "display_data"
    },
    {
     "data": {
      "text/html": [],
      "text/plain": [
       "<IPython.core.display.HTML object>"
      ]
     },
     "metadata": {},
     "output_type": "display_data"
    },
    {
     "name": "stdout",
     "output_type": "stream",
     "text": [
      "SuggestedLRs(valley=0.013182567432522774)\n"
     ]
    },
    {
     "data": {
      "image/png": "[encoded data removed]",
      "text/plain": [
       "<Figure size 640x480 with 1 Axes>"
      ]
     },
     "metadata": {},
     "output_type": "display_data"
    }
   ],
   "source": [
    "# finding the learning rate\n",
    "lr_result = learn.lr_find()\n",
    "print(lr_result)"
   ]
  },
  {
   "cell_type": "code",
   "execution_count": 18,
   "id": "fe8bcd5f",
   "metadata": {
    "execution": {
     "iopub.execute_input": "2025-06-03T12:39:13.212257Z",
     "iopub.status.busy": "2025-06-03T12:39:13.211983Z",
     "iopub.status.idle": "2025-06-03T12:39:13.216672Z",
     "shell.execute_reply": "2025-06-03T12:39:13.216143Z"
    },
    "papermill": {
     "duration": 0.014854,
     "end_time": "2025-06-03T12:39:13.217795",
     "exception": false,
     "start_time": "2025-06-03T12:39:13.202941",
     "status": "completed"
    },
    "tags": []
   },
   "outputs": [
    {
     "data": {
      "text/plain": [
       "0.013182567432522774"
      ]
     },
     "execution_count": 18,
     "metadata": {},
     "output_type": "execute_result"
    }
   ],
   "source": [
    "lr = float(lr_result.valley)\n",
    "lr"
   ]
  },
  {
   "cell_type": "code",
   "execution_count": 19,
   "id": "504fc0fc",
   "metadata": {
    "execution": {
     "iopub.execute_input": "2025-06-03T12:39:13.235448Z",
     "iopub.status.busy": "2025-06-03T12:39:13.235263Z",
     "iopub.status.idle": "2025-06-03T12:39:13.240073Z",
     "shell.execute_reply": "2025-06-03T12:39:13.239534Z"
    },
    "papermill": {
     "duration": 0.014158,
     "end_time": "2025-06-03T12:39:13.241019",
     "exception": false,
     "start_time": "2025-06-03T12:39:13.226861",
     "status": "completed"
    },
    "tags": []
   },
   "outputs": [],
   "source": [
    "# so we use that as our learning rate\n",
    "learning_rate = lr\n",
    "\n",
    "# define the criterion (loss function)\n",
    "criterion = nn.CrossEntropyLoss()\n",
    "\n",
    "# defining the optimizer, this time using SGD\n",
    "optimizer = optim.SGD(\n",
    "    resnet_model.parameters(),\n",
    "    lr=lr,\n",
    "    momentum=0.9,\n",
    "    weight_decay=1e-4)\n",
    "\n",
    "# define the number of epochs\n",
    "num_epochs = 50\n",
    "\n",
    "# adding a learning rate scheduler (OneCycleLR)\n",
    "scheduler = torch.optim.lr_scheduler.OneCycleLR(\n",
    "    optimizer,\n",
    "    max_lr=lr,\n",
    "    steps_per_epoch=len(resnet_trn_loader),\n",
    "    epochs=num_epochs)\n"
   ]
  },
  {
   "cell_type": "markdown",
   "id": "aaf74f52",
   "metadata": {
    "papermill": {
     "duration": 0.00776,
     "end_time": "2025-06-03T12:39:13.256558",
     "exception": false,
     "start_time": "2025-06-03T12:39:13.248798",
     "status": "completed"
    },
    "tags": []
   },
   "source": [
    "## Initialize Wandb"
   ]
  },
  {
   "cell_type": "code",
   "execution_count": 20,
   "id": "d50c3203",
   "metadata": {
    "execution": {
     "iopub.execute_input": "2025-06-03T12:39:13.273610Z",
     "iopub.status.busy": "2025-06-03T12:39:13.273392Z",
     "iopub.status.idle": "2025-06-03T12:39:14.813776Z",
     "shell.execute_reply": "2025-06-03T12:39:14.813231Z"
    },
    "papermill": {
     "duration": 1.550366,
     "end_time": "2025-06-03T12:39:14.815096",
     "exception": false,
     "start_time": "2025-06-03T12:39:13.264730",
     "status": "completed"
    },
    "tags": []
   },
   "outputs": [
    {
     "name": "stderr",
     "output_type": "stream",
     "text": [
      "\u001b[34m\u001b[1mwandb\u001b[0m: Tracking run with wandb version 0.19.9\n",
      "\u001b[34m\u001b[1mwandb\u001b[0m: Run data is saved locally in \u001b[35m\u001b[1m/kaggle/working/wandb/run-20250603_123913-ffof4iwe\u001b[0m\n",
      "\u001b[34m\u001b[1mwandb\u001b[0m: Run \u001b[1m`wandb offline`\u001b[0m to turn off syncing.\n",
      "\u001b[34m\u001b[1mwandb\u001b[0m: Syncing run \u001b[33mdeep-music-2\u001b[0m\n",
      "\u001b[34m\u001b[1mwandb\u001b[0m: ⭐️ View project at \u001b[34m\u001b[4mhttps://wandb.ai/lazymonster-my-company/FER2013%20Documentation%20Training\u001b[0m\n",
      "\u001b[34m\u001b[1mwandb\u001b[0m: 🚀 View run at \u001b[34m\u001b[4mhttps://wandb.ai/lazymonster-my-company/FER2013%20Documentation%20Training/runs/ffof4iwe\u001b[0m\n"
     ]
    }
   ],
   "source": [
    "\n",
    "run = wandb.init(\n",
    "    entity=\"lazymonster-my-company\",\n",
    "    # Set the wandb project where this run will be logged.\n",
    "    project=\"FER2013 Documentation Training\",\n",
    "    # Track hyperparameters and run metadata.\n",
    "    config={\n",
    "        \"learning_rate\": lr,\n",
    "        \"architecture\": \"CNN\",\n",
    "        \"dataset\": \"FER2013\",\n",
    "        \"epochs\": num_epochs,\n",
    "        \"batch_size\": batch_size\n",
    "    },\n",
    ")"
   ]
  },
  {
   "cell_type": "markdown",
   "id": "08c91fc2",
   "metadata": {
    "papermill": {
     "duration": 0.008081,
     "end_time": "2025-06-03T12:39:14.832060",
     "exception": false,
     "start_time": "2025-06-03T12:39:14.823979",
     "status": "completed"
    },
    "tags": []
   },
   "source": [
    "## Now, we train"
   ]
  },
  {
   "cell_type": "code",
   "execution_count": 21,
   "id": "db5daf9e",
   "metadata": {
    "execution": {
     "iopub.execute_input": "2025-06-03T12:39:14.849970Z",
     "iopub.status.busy": "2025-06-03T12:39:14.849736Z",
     "iopub.status.idle": "2025-06-03T14:00:56.534968Z",
     "shell.execute_reply": "2025-06-03T14:00:56.534084Z"
    },
    "papermill": {
     "duration": 4901.701291,
     "end_time": "2025-06-03T14:00:56.541613",
     "exception": false,
     "start_time": "2025-06-03T12:39:14.840322",
     "status": "completed"
    },
    "tags": []
   },
   "outputs": [
    {
     "name": "stdout",
     "output_type": "stream",
     "text": [
      "Early stopping configured with patience=10, min_delta=0.0001\n"
     ]
    },
    {
     "data": {
      "application/vnd.jupyter.widget-view+json": {
       "model_id": "d811e648b3894ba7a7ad8bf72cc0e8d6",
       "version_major": 2,
       "version_minor": 0
      },
      "text/plain": [
       "  0%|          | 0/50 [00:00<?, ?it/s]"
      ]
     },
     "metadata": {},
     "output_type": "display_data"
    },
    {
     "name": "stdout",
     "output_type": "stream",
     "text": [
      "Epoch: 1 | train_loss: 1.6578 | train_acc: 0.3272 | val_loss: 1.3344 | val_acc: 0.4903\n",
      "  Validation accuracy improved. Saving best model state (Acc: 0.4903)\n",
      "Epoch: 2 | train_loss: 1.3015 | train_acc: 0.4983 | val_loss: 1.1632 | val_acc: 0.5480\n",
      "  Validation accuracy improved. Saving best model state (Acc: 0.5480)\n",
      "Epoch: 3 | train_loss: 1.1767 | train_acc: 0.5563 | val_loss: 1.0589 | val_acc: 0.5963\n",
      "  Validation accuracy improved. Saving best model state (Acc: 0.5963)\n",
      "Epoch: 4 | train_loss: 1.1035 | train_acc: 0.5916 | val_loss: 1.0337 | val_acc: 0.6192\n",
      "  Validation accuracy improved. Saving best model state (Acc: 0.6192)\n",
      "Epoch: 5 | train_loss: 1.0581 | train_acc: 0.6110 | val_loss: 1.0023 | val_acc: 0.6261\n",
      "  Validation accuracy improved. Saving best model state (Acc: 0.6261)\n",
      "Epoch: 6 | train_loss: 1.0369 | train_acc: 0.6178 | val_loss: 1.0209 | val_acc: 0.6308\n",
      "  Validation accuracy improved. Saving best model state (Acc: 0.6308)\n",
      "Epoch: 7 | train_loss: 1.0099 | train_acc: 0.6281 | val_loss: 1.0142 | val_acc: 0.6219\n",
      "  Validation accuracy did not improve. Patience: 1/10\n",
      "Epoch: 8 | train_loss: 0.9974 | train_acc: 0.6353 | val_loss: 0.9847 | val_acc: 0.6334\n",
      "  Validation accuracy improved. Saving best model state (Acc: 0.6334)\n",
      "Epoch: 9 | train_loss: 0.9758 | train_acc: 0.6440 | val_loss: 0.9828 | val_acc: 0.6429\n",
      "  Validation accuracy improved. Saving best model state (Acc: 0.6429)\n",
      "Epoch: 10 | train_loss: 0.9550 | train_acc: 0.6505 | val_loss: 0.9887 | val_acc: 0.6421\n",
      "  Validation accuracy did not improve. Patience: 1/10\n",
      "Epoch: 11 | train_loss: 0.9380 | train_acc: 0.6599 | val_loss: 1.0065 | val_acc: 0.6262\n",
      "  Validation accuracy did not improve. Patience: 2/10\n",
      "Epoch: 12 | train_loss: 0.9201 | train_acc: 0.6642 | val_loss: 0.9571 | val_acc: 0.6465\n",
      "  Validation accuracy improved. Saving best model state (Acc: 0.6465)\n",
      "Epoch: 13 | train_loss: 0.9006 | train_acc: 0.6746 | val_loss: 0.9766 | val_acc: 0.6370\n",
      "  Validation accuracy did not improve. Patience: 1/10\n",
      "Epoch: 14 | train_loss: 0.8814 | train_acc: 0.6833 | val_loss: 0.9453 | val_acc: 0.6475\n",
      "  Validation accuracy improved. Saving best model state (Acc: 0.6475)\n",
      "Epoch: 15 | train_loss: 0.8492 | train_acc: 0.6934 | val_loss: 0.9284 | val_acc: 0.6632\n",
      "  Validation accuracy improved. Saving best model state (Acc: 0.6632)\n",
      "Epoch: 16 | train_loss: 0.8440 | train_acc: 0.6968 | val_loss: 0.9470 | val_acc: 0.6499\n",
      "  Validation accuracy did not improve. Patience: 1/10\n",
      "Epoch: 17 | train_loss: 0.8214 | train_acc: 0.7054 | val_loss: 0.9737 | val_acc: 0.6477\n",
      "  Validation accuracy did not improve. Patience: 2/10\n",
      "Epoch: 18 | train_loss: 0.7990 | train_acc: 0.7119 | val_loss: 0.9613 | val_acc: 0.6525\n",
      "  Validation accuracy did not improve. Patience: 3/10\n",
      "Epoch: 19 | train_loss: 0.7736 | train_acc: 0.7227 | val_loss: 0.9737 | val_acc: 0.6487\n",
      "  Validation accuracy did not improve. Patience: 4/10\n",
      "Epoch: 20 | train_loss: 0.7567 | train_acc: 0.7308 | val_loss: 0.9715 | val_acc: 0.6501\n",
      "  Validation accuracy did not improve. Patience: 5/10\n",
      "Epoch: 21 | train_loss: 0.7415 | train_acc: 0.7349 | val_loss: 0.9726 | val_acc: 0.6544\n",
      "  Validation accuracy did not improve. Patience: 6/10\n",
      "Epoch: 22 | train_loss: 0.7255 | train_acc: 0.7393 | val_loss: 0.9578 | val_acc: 0.6586\n",
      "  Validation accuracy did not improve. Patience: 7/10\n",
      "Epoch: 23 | train_loss: 0.6903 | train_acc: 0.7591 | val_loss: 0.9806 | val_acc: 0.6606\n",
      "  Validation accuracy did not improve. Patience: 8/10\n",
      "Epoch: 24 | train_loss: 0.6799 | train_acc: 0.7583 | val_loss: 0.9788 | val_acc: 0.6535\n",
      "  Validation accuracy did not improve. Patience: 9/10\n",
      "Epoch: 25 | train_loss: 0.6581 | train_acc: 0.7636 | val_loss: 0.9860 | val_acc: 0.6656\n",
      "  Validation accuracy improved. Saving best model state (Acc: 0.6656)\n",
      "Epoch: 26 | train_loss: 0.6324 | train_acc: 0.7775 | val_loss: 0.9835 | val_acc: 0.6471\n",
      "  Validation accuracy did not improve. Patience: 1/10\n",
      "Epoch: 27 | train_loss: 0.6116 | train_acc: 0.7854 | val_loss: 0.9924 | val_acc: 0.6688\n",
      "  Validation accuracy improved. Saving best model state (Acc: 0.6688)\n",
      "Epoch: 28 | train_loss: 0.5939 | train_acc: 0.7906 | val_loss: 0.9642 | val_acc: 0.6706\n",
      "  Validation accuracy improved. Saving best model state (Acc: 0.6706)\n",
      "Epoch: 29 | train_loss: 0.5625 | train_acc: 0.8026 | val_loss: 1.0386 | val_acc: 0.6528\n",
      "  Validation accuracy did not improve. Patience: 1/10\n",
      "Epoch: 30 | train_loss: 0.5401 | train_acc: 0.8106 | val_loss: 1.0811 | val_acc: 0.6567\n",
      "  Validation accuracy did not improve. Patience: 2/10\n",
      "Epoch: 31 | train_loss: 0.5326 | train_acc: 0.8125 | val_loss: 1.0694 | val_acc: 0.6599\n",
      "  Validation accuracy did not improve. Patience: 3/10\n",
      "Epoch: 32 | train_loss: 0.4928 | train_acc: 0.8275 | val_loss: 1.0285 | val_acc: 0.6741\n",
      "  Validation accuracy improved. Saving best model state (Acc: 0.6741)\n",
      "Epoch: 33 | train_loss: 0.4785 | train_acc: 0.8331 | val_loss: 1.0853 | val_acc: 0.6806\n",
      "  Validation accuracy improved. Saving best model state (Acc: 0.6806)\n",
      "Epoch: 34 | train_loss: 0.4428 | train_acc: 0.8440 | val_loss: 1.0746 | val_acc: 0.6620\n",
      "  Validation accuracy did not improve. Patience: 1/10\n",
      "Epoch: 35 | train_loss: 0.4281 | train_acc: 0.8481 | val_loss: 1.0794 | val_acc: 0.6735\n",
      "  Validation accuracy did not improve. Patience: 2/10\n",
      "Epoch: 36 | train_loss: 0.3997 | train_acc: 0.8607 | val_loss: 1.1353 | val_acc: 0.6644\n",
      "  Validation accuracy did not improve. Patience: 3/10\n",
      "Epoch: 37 | train_loss: 0.3682 | train_acc: 0.8722 | val_loss: 1.1259 | val_acc: 0.6794\n",
      "  Validation accuracy did not improve. Patience: 4/10\n",
      "Epoch: 38 | train_loss: 0.3343 | train_acc: 0.8842 | val_loss: 1.1916 | val_acc: 0.6765\n",
      "  Validation accuracy did not improve. Patience: 5/10\n",
      "Epoch: 39 | train_loss: 0.3068 | train_acc: 0.8947 | val_loss: 1.1701 | val_acc: 0.6723\n",
      "  Validation accuracy did not improve. Patience: 6/10\n",
      "Epoch: 40 | train_loss: 0.2741 | train_acc: 0.9040 | val_loss: 1.2439 | val_acc: 0.6763\n",
      "  Validation accuracy did not improve. Patience: 7/10\n",
      "Epoch: 41 | train_loss: 0.2413 | train_acc: 0.9165 | val_loss: 1.3009 | val_acc: 0.6800\n",
      "  Validation accuracy did not improve. Patience: 8/10\n",
      "Epoch: 42 | train_loss: 0.2124 | train_acc: 0.9284 | val_loss: 1.2849 | val_acc: 0.6877\n",
      "  Validation accuracy improved. Saving best model state (Acc: 0.6877)\n",
      "Epoch: 43 | train_loss: 0.1739 | train_acc: 0.9407 | val_loss: 1.3852 | val_acc: 0.6848\n",
      "  Validation accuracy did not improve. Patience: 1/10\n",
      "Epoch: 44 | train_loss: 0.1548 | train_acc: 0.9473 | val_loss: 1.4276 | val_acc: 0.6853\n",
      "  Validation accuracy did not improve. Patience: 2/10\n",
      "Epoch: 45 | train_loss: 0.1211 | train_acc: 0.9588 | val_loss: 1.4995 | val_acc: 0.6882\n",
      "  Validation accuracy improved. Saving best model state (Acc: 0.6882)\n",
      "Epoch: 46 | train_loss: 0.1062 | train_acc: 0.9643 | val_loss: 1.5846 | val_acc: 0.6815\n",
      "  Validation accuracy did not improve. Patience: 1/10\n",
      "Epoch: 47 | train_loss: 0.0973 | train_acc: 0.9663 | val_loss: 1.5559 | val_acc: 0.6927\n",
      "  Validation accuracy improved. Saving best model state (Acc: 0.6927)\n",
      "Epoch: 48 | train_loss: 0.0853 | train_acc: 0.9706 | val_loss: 1.5872 | val_acc: 0.6966\n",
      "  Validation accuracy improved. Saving best model state (Acc: 0.6966)\n",
      "Epoch: 49 | train_loss: 0.0741 | train_acc: 0.9756 | val_loss: 1.6090 | val_acc: 0.6897\n",
      "  Validation accuracy did not improve. Patience: 1/10\n",
      "Epoch: 50 | train_loss: 0.0754 | train_acc: 0.9752 | val_loss: 1.6669 | val_acc: 0.6931\n",
      "  Validation accuracy did not improve. Patience: 2/10\n",
      "Loading best model state found during training.\n",
      "[INFO] Total training time: 4901.680 seconds\n"
     ]
    }
   ],
   "source": [
    "# Set number of epochs again for clarity\n",
    "num_epochs = 50 \n",
    "\n",
    "# set patience value for early stopping\n",
    "patience_value = 10\n",
    "\n",
    "# Start the timer\n",
    "from timeit import default_timer as timer\n",
    "start_time = timer()\n",
    "\n",
    "# Call the training function with early stopping parameters\n",
    "resnet18_results = train(model=resnet_model,\n",
    "                         train_dataloader=resnet_trn_loader,\n",
    "                         test_dataloader=resnet_val_loader,\n",
    "                         optimizer=optimizer,\n",
    "                         loss_fn=criterion,\n",
    "                         epochs=num_epochs,\n",
    "                         scheduler=scheduler,\n",
    "                         device=device,\n",
    "                         patience=patience_value,\n",
    "                         min_delta=0.0001\n",
    "                         )\n",
    "\n",
    "# End the timer and print out how long it took\n",
    "end_time = timer()\n",
    "print(f\"[INFO] Total training time: {end_time-start_time:.3f} seconds\")"
   ]
  },
  {
   "cell_type": "markdown",
   "id": "7fee3dde",
   "metadata": {
    "papermill": {
     "duration": 0.010207,
     "end_time": "2025-06-03T14:00:56.562355",
     "exception": false,
     "start_time": "2025-06-03T14:00:56.552148",
     "status": "completed"
    },
    "tags": []
   },
   "source": [
    "## Model testing"
   ]
  },
  {
   "cell_type": "markdown",
   "id": "f90ede50",
   "metadata": {
    "papermill": {
     "duration": 0.010725,
     "end_time": "2025-06-03T14:00:56.583733",
     "exception": false,
     "start_time": "2025-06-03T14:00:56.573008",
     "status": "completed"
    },
    "tags": []
   },
   "source": [
    "Now that we have trained the model, it is time to test the model on the test dataset.\n",
    "\n",
    "First we load the data:"
   ]
  },
  {
   "cell_type": "code",
   "execution_count": 22,
   "id": "73fc3ada",
   "metadata": {
    "execution": {
     "iopub.execute_input": "2025-06-03T14:00:56.605889Z",
     "iopub.status.busy": "2025-06-03T14:00:56.605596Z",
     "iopub.status.idle": "2025-06-03T14:01:11.845395Z",
     "shell.execute_reply": "2025-06-03T14:01:11.844615Z"
    },
    "papermill": {
     "duration": 15.252729,
     "end_time": "2025-06-03T14:01:11.846821",
     "exception": false,
     "start_time": "2025-06-03T14:00:56.594092",
     "status": "completed"
    },
    "tags": []
   },
   "outputs": [],
   "source": [
    "test_dataset = ImageFolder(root='/kaggle/input/fer2013/test', transform=val_transforms_resnet)\n",
    "test_dataloader = DataLoader(\n",
    "    test_dataset,\n",
    "    batch_size=4,\n",
    "    shuffle=False,\n",
    "    num_workers=2,\n",
    ")"
   ]
  },
  {
   "cell_type": "code",
   "execution_count": 23,
   "id": "1ffc2104",
   "metadata": {
    "execution": {
     "iopub.execute_input": "2025-06-03T14:01:11.868920Z",
     "iopub.status.busy": "2025-06-03T14:01:11.868357Z",
     "iopub.status.idle": "2025-06-03T14:01:43.997446Z",
     "shell.execute_reply": "2025-06-03T14:01:43.995629Z"
    },
    "papermill": {
     "duration": 32.141796,
     "end_time": "2025-06-03T14:01:43.999277",
     "exception": false,
     "start_time": "2025-06-03T14:01:11.857481",
     "status": "completed"
    },
    "tags": []
   },
   "outputs": [
    {
     "name": "stdout",
     "output_type": "stream",
     "text": [
      "              precision    recall  f1-score   support\n",
      "\n",
      "       angry       0.61      0.63      0.62       958\n",
      "     disgust       0.78      0.68      0.72       111\n",
      "        fear       0.54      0.56      0.55      1024\n",
      "       happy       0.89      0.87      0.88      1774\n",
      "     neutral       0.65      0.64      0.64      1233\n",
      "         sad       0.58      0.57      0.57      1247\n",
      "    surprise       0.80      0.83      0.81       831\n",
      "\n",
      "    accuracy                           0.69      7178\n",
      "   macro avg       0.69      0.68      0.69      7178\n",
      "weighted avg       0.70      0.69      0.69      7178\n",
      "\n"
     ]
    },
    {
     "name": "stderr",
     "output_type": "stream",
     "text": [
      "\u001b[34m\u001b[1mwandb\u001b[0m:                                                                                \n",
      "\u001b[34m\u001b[1mwandb\u001b[0m: \n",
      "\u001b[34m\u001b[1mwandb\u001b[0m: Run history:\n",
      "\u001b[34m\u001b[1mwandb\u001b[0m:               accuracy ▁\n",
      "\u001b[34m\u001b[1mwandb\u001b[0m:         angry/f1-score ▁\n",
      "\u001b[34m\u001b[1mwandb\u001b[0m:        angry/precision ▁\n",
      "\u001b[34m\u001b[1mwandb\u001b[0m:           angry/recall ▁\n",
      "\u001b[34m\u001b[1mwandb\u001b[0m:          angry/support ▁\n",
      "\u001b[34m\u001b[1mwandb\u001b[0m:       disgust/f1-score ▁\n",
      "\u001b[34m\u001b[1mwandb\u001b[0m:      disgust/precision ▁\n",
      "\u001b[34m\u001b[1mwandb\u001b[0m:         disgust/recall ▁\n",
      "\u001b[34m\u001b[1mwandb\u001b[0m:        disgust/support ▁\n",
      "\u001b[34m\u001b[1mwandb\u001b[0m:                  epoch ▁▁▁▁▂▂▂▂▂▂▃▃▃▃▃▄▄▄▄▄▄▅▅▅▅▅▆▆▆▆▆▆▇▇▇▇▇███\n",
      "\u001b[34m\u001b[1mwandb\u001b[0m:          fear/f1-score ▁\n",
      "\u001b[34m\u001b[1mwandb\u001b[0m:         fear/precision ▁\n",
      "\u001b[34m\u001b[1mwandb\u001b[0m:            fear/recall ▁\n",
      "\u001b[34m\u001b[1mwandb\u001b[0m:           fear/support ▁\n",
      "\u001b[34m\u001b[1mwandb\u001b[0m:         happy/f1-score ▁\n",
      "\u001b[34m\u001b[1mwandb\u001b[0m:        happy/precision ▁\n",
      "\u001b[34m\u001b[1mwandb\u001b[0m:           happy/recall ▁\n",
      "\u001b[34m\u001b[1mwandb\u001b[0m:          happy/support ▁\n",
      "\u001b[34m\u001b[1mwandb\u001b[0m:     macro avg/f1-score ▁\n",
      "\u001b[34m\u001b[1mwandb\u001b[0m:    macro avg/precision ▁\n",
      "\u001b[34m\u001b[1mwandb\u001b[0m:       macro avg/recall ▁\n",
      "\u001b[34m\u001b[1mwandb\u001b[0m:      macro avg/support ▁\n",
      "\u001b[34m\u001b[1mwandb\u001b[0m:       neutral/f1-score ▁\n",
      "\u001b[34m\u001b[1mwandb\u001b[0m:      neutral/precision ▁\n",
      "\u001b[34m\u001b[1mwandb\u001b[0m:         neutral/recall ▁\n",
      "\u001b[34m\u001b[1mwandb\u001b[0m:        neutral/support ▁\n",
      "\u001b[34m\u001b[1mwandb\u001b[0m:           sad/f1-score ▁\n",
      "\u001b[34m\u001b[1mwandb\u001b[0m:          sad/precision ▁\n",
      "\u001b[34m\u001b[1mwandb\u001b[0m:             sad/recall ▁\n",
      "\u001b[34m\u001b[1mwandb\u001b[0m:            sad/support ▁\n",
      "\u001b[34m\u001b[1mwandb\u001b[0m:      surprise/f1-score ▁\n",
      "\u001b[34m\u001b[1mwandb\u001b[0m:     surprise/precision ▁\n",
      "\u001b[34m\u001b[1mwandb\u001b[0m:        surprise/recall ▁\n",
      "\u001b[34m\u001b[1mwandb\u001b[0m:       surprise/support ▁\n",
      "\u001b[34m\u001b[1mwandb\u001b[0m:               test_acc ▁▃▅▅▆▅▆▆▆▆▆▆▇▆▆▆▇▇▇▇▆▇▇▇▇▇▇▇▇▇▇▇▇▇██▇███\n",
      "\u001b[34m\u001b[1mwandb\u001b[0m:              test_loss ▅▃▂▂▂▂▂▂▂▁▁▁▁▁▁▁▁▁▁▁▂▂▁▂▂▂▂▂▂▃▃▄▅▄▅▆▇▇▇█\n",
      "\u001b[34m\u001b[1mwandb\u001b[0m:              train_acc ▁▃▃▄▄▄▄▄▄▅▅▅▅▅▅▅▅▅▆▆▆▆▆▆▆▆▇▇▇▇▇▇▇▇██████\n",
      "\u001b[34m\u001b[1mwandb\u001b[0m:             train_loss █▆▆▆▅▅▅▅▅▅▅▅▄▄▄▄▄▄▄▄▄▃▃▃▃▃▃▃▃▂▂▂▂▂▁▁▁▁▁▁\n",
      "\u001b[34m\u001b[1mwandb\u001b[0m:  weighted avg/f1-score ▁\n",
      "\u001b[34m\u001b[1mwandb\u001b[0m: weighted avg/precision ▁\n",
      "\u001b[34m\u001b[1mwandb\u001b[0m:    weighted avg/recall ▁\n",
      "\u001b[34m\u001b[1mwandb\u001b[0m:   weighted avg/support ▁\n",
      "\u001b[34m\u001b[1mwandb\u001b[0m: \n",
      "\u001b[34m\u001b[1mwandb\u001b[0m: Run summary:\n",
      "\u001b[34m\u001b[1mwandb\u001b[0m:               accuracy 0.69337\n",
      "\u001b[34m\u001b[1mwandb\u001b[0m:         angry/f1-score 0.61822\n",
      "\u001b[34m\u001b[1mwandb\u001b[0m:        angry/precision 0.60643\n",
      "\u001b[34m\u001b[1mwandb\u001b[0m:           angry/recall 0.63048\n",
      "\u001b[34m\u001b[1mwandb\u001b[0m:          angry/support 958\n",
      "\u001b[34m\u001b[1mwandb\u001b[0m:       disgust/f1-score 0.72464\n",
      "\u001b[34m\u001b[1mwandb\u001b[0m:      disgust/precision 0.78125\n",
      "\u001b[34m\u001b[1mwandb\u001b[0m:         disgust/recall 0.67568\n",
      "\u001b[34m\u001b[1mwandb\u001b[0m:        disgust/support 111\n",
      "\u001b[34m\u001b[1mwandb\u001b[0m:                  epoch 50\n",
      "\u001b[34m\u001b[1mwandb\u001b[0m:          fear/f1-score 0.5506\n",
      "\u001b[34m\u001b[1mwandb\u001b[0m:         fear/precision 0.541\n",
      "\u001b[34m\u001b[1mwandb\u001b[0m:            fear/recall 0.56055\n",
      "\u001b[34m\u001b[1mwandb\u001b[0m:           fear/support 1024\n",
      "\u001b[34m\u001b[1mwandb\u001b[0m:         happy/f1-score 0.88062\n",
      "\u001b[34m\u001b[1mwandb\u001b[0m:        happy/precision 0.89471\n",
      "\u001b[34m\u001b[1mwandb\u001b[0m:           happy/recall 0.86697\n",
      "\u001b[34m\u001b[1mwandb\u001b[0m:          happy/support 1774\n",
      "\u001b[34m\u001b[1mwandb\u001b[0m:     macro avg/f1-score 0.68639\n",
      "\u001b[34m\u001b[1mwandb\u001b[0m:    macro avg/precision 0.69261\n",
      "\u001b[34m\u001b[1mwandb\u001b[0m:       macro avg/recall 0.68154\n",
      "\u001b[34m\u001b[1mwandb\u001b[0m:      macro avg/support 7178\n",
      "\u001b[34m\u001b[1mwandb\u001b[0m:       neutral/f1-score 0.64102\n",
      "\u001b[34m\u001b[1mwandb\u001b[0m:      neutral/precision 0.64711\n",
      "\u001b[34m\u001b[1mwandb\u001b[0m:         neutral/recall 0.63504\n",
      "\u001b[34m\u001b[1mwandb\u001b[0m:        neutral/support 1233\n",
      "\u001b[34m\u001b[1mwandb\u001b[0m:           sad/f1-score 0.575\n",
      "\u001b[34m\u001b[1mwandb\u001b[0m:          sad/precision 0.57826\n",
      "\u001b[34m\u001b[1mwandb\u001b[0m:             sad/recall 0.57177\n",
      "\u001b[34m\u001b[1mwandb\u001b[0m:            sad/support 1247\n",
      "\u001b[34m\u001b[1mwandb\u001b[0m:      surprise/f1-score 0.81464\n",
      "\u001b[34m\u001b[1mwandb\u001b[0m:     surprise/precision 0.79954\n",
      "\u001b[34m\u001b[1mwandb\u001b[0m:        surprise/recall 0.83032\n",
      "\u001b[34m\u001b[1mwandb\u001b[0m:       surprise/support 831\n",
      "\u001b[34m\u001b[1mwandb\u001b[0m:               test_acc 0.69307\n",
      "\u001b[34m\u001b[1mwandb\u001b[0m:              test_loss 1.66688\n",
      "\u001b[34m\u001b[1mwandb\u001b[0m:              train_acc 0.97524\n",
      "\u001b[34m\u001b[1mwandb\u001b[0m:             train_loss 0.07542\n",
      "\u001b[34m\u001b[1mwandb\u001b[0m:  weighted avg/f1-score 0.69422\n",
      "\u001b[34m\u001b[1mwandb\u001b[0m: weighted avg/precision 0.69549\n",
      "\u001b[34m\u001b[1mwandb\u001b[0m:    weighted avg/recall 0.69337\n",
      "\u001b[34m\u001b[1mwandb\u001b[0m:   weighted avg/support 7178\n",
      "\u001b[34m\u001b[1mwandb\u001b[0m: \n",
      "\u001b[34m\u001b[1mwandb\u001b[0m: 🚀 View run \u001b[33mdeep-music-2\u001b[0m at: \u001b[34m\u001b[4mhttps://wandb.ai/lazymonster-my-company/FER2013%20Documentation%20Training/runs/ffof4iwe\u001b[0m\n",
      "\u001b[34m\u001b[1mwandb\u001b[0m: ⭐️ View project at: \u001b[34m\u001b[4mhttps://wandb.ai/lazymonster-my-company/FER2013%20Documentation%20Training\u001b[0m\n",
      "\u001b[34m\u001b[1mwandb\u001b[0m: Synced 5 W&B file(s), 0 media file(s), 0 artifact file(s) and 0 other file(s)\n",
      "\u001b[34m\u001b[1mwandb\u001b[0m: Find logs at: \u001b[35m\u001b[1m./wandb/run-20250603_123913-ffof4iwe/logs\u001b[0m\n"
     ]
    }
   ],
   "source": [
    "from sklearn.metrics import classification_report\n",
    "\n",
    "# Evaluate model\n",
    "resnet_model.eval()\n",
    "all_preds = []\n",
    "all_labels = []\n",
    "\n",
    "with torch.inference_mode():\n",
    "    for inputs, labels in test_dataloader:\n",
    "        inputs, labels = inputs.to(device), labels.to(device)\n",
    "        outputs = resnet_model(inputs)\n",
    "        _, preds = torch.max(outputs, 1)\n",
    "        all_preds.extend(preds.cpu().numpy())\n",
    "        all_labels.extend(labels.cpu().numpy())\n",
    "\n",
    "# Generate classification report as dictionary\n",
    "report_dict = classification_report(\n",
    "    all_labels, \n",
    "    all_preds, \n",
    "    target_names=full_data.classes, \n",
    "    output_dict=True\n",
    ")\n",
    "\n",
    "# Print report\n",
    "print(classification_report(all_labels, all_preds, target_names=full_data.classes))\n",
    "\n",
    "# Flatten and log to wandb\n",
    "flattened_report = {}\n",
    "for label, metrics in report_dict.items():\n",
    "    if isinstance(metrics, dict):\n",
    "        for metric_name, value in metrics.items():\n",
    "            flattened_report[f\"{label}/{metric_name}\"] = value\n",
    "    else:\n",
    "        flattened_report[label] = metrics\n",
    "\n",
    "# Log to wandb\n",
    "run.log(flattened_report)\n",
    "\n",
    "# Properly close the wandb session\n",
    "run.finish()"
   ]
  },
  {
   "cell_type": "markdown",
   "id": "0b0a9a3d",
   "metadata": {
    "papermill": {
     "duration": 0.016856,
     "end_time": "2025-06-03T14:01:44.035761",
     "exception": false,
     "start_time": "2025-06-03T14:01:44.018905",
     "status": "completed"
    },
    "tags": []
   },
   "source": [
    "## Save the model as a .pt file"
   ]
  },
  {
   "cell_type": "code",
   "execution_count": 24,
   "id": "f2c1736b",
   "metadata": {
    "execution": {
     "iopub.execute_input": "2025-06-03T14:01:44.065611Z",
     "iopub.status.busy": "2025-06-03T14:01:44.064977Z",
     "iopub.status.idle": "2025-06-03T14:01:44.151185Z",
     "shell.execute_reply": "2025-06-03T14:01:44.150392Z"
    },
    "papermill": {
     "duration": 0.102186,
     "end_time": "2025-06-03T14:01:44.152807",
     "exception": false,
     "start_time": "2025-06-03T14:01:44.050621",
     "status": "completed"
    },
    "tags": []
   },
   "outputs": [],
   "source": [
    "torch.save(resnet_model.state_dict(), \"./v3-resnet18.pt\")"
   ]
  },
  {
   "cell_type": "markdown",
   "id": "eea07923",
   "metadata": {
    "papermill": {
     "duration": 0.010592,
     "end_time": "2025-06-03T14:01:44.174482",
     "exception": false,
     "start_time": "2025-06-03T14:01:44.163890",
     "status": "completed"
    },
    "tags": []
   },
   "source": [
    "## Deployed on HuggingFace. Check it out!"
   ]
  },
  {
   "cell_type": "markdown",
   "id": "8c3a9838",
   "metadata": {
    "papermill": {
     "duration": 0.010303,
     "end_time": "2025-06-03T14:01:44.195405",
     "exception": false,
     "start_time": "2025-06-03T14:01:44.185102",
     "status": "completed"
    },
    "tags": []
   },
   "source": [
    "The model has been deployed on Huggingface! Check it out [here](https://huggingface.co/spaces/lazymonster/facial-emotion-recognition)"
   ]
  }
 ],
 "metadata": {
  "kaggle": {
   "accelerator": "gpu",
   "dataSources": [
    {
     "datasetId": 786787,
     "sourceId": 1351797,
     "sourceType": "datasetVersion"
    }
   ],
   "dockerImageVersionId": 31040,
   "isGpuEnabled": true,
   "isInternetEnabled": true,
   "language": "python",
   "sourceType": "notebook"
  },
  "kernelspec": {
   "display_name": "Python 3",
   "language": "python",
   "name": "python3"
  },
  "language_info": {
   "codemirror_mode": {
    "name": "ipython",
    "version": 3
   },
   "file_extension": ".py",
   "mimetype": "text/x-python",
   "name": "python",
   "nbconvert_exporter": "python",
   "pygments_lexer": "ipython3",
   "version": "3.11.11"
  },
  "papermill": {
   "default_parameters": {},
   "duration": 5099.048147,
   "end_time": "2025-06-03T14:01:46.927930",
   "environment_variables": {},
   "exception": null,
   "input_path": "__notebook__.ipynb",
   "output_path": "__notebook__.ipynb",
   "parameters": {},
   "start_time": "2025-06-03T12:36:47.879783",
   "version": "2.6.0"
  },
  "widgets": {
   "application/vnd.jupyter.widget-state+json": {
    "state": {
     "2a65526b236a4aecaec8c324f3fce925": {
      "model_module": "@jupyter-widgets/base",
      "model_module_version": "2.0.0",
      "model_name": "LayoutModel",
      "state": {
       "_model_module": "@jupyter-widgets/base",
       "_model_module_version": "2.0.0",
       "_model_name": "LayoutModel",
       "_view_count": null,
       "_view_module": "@jupyter-widgets/base",
       "_view_module_version": "2.0.0",
       "_view_name": "LayoutView",
       "align_content": null,
       "align_items": null,
       "align_self": null,
       "border_bottom": null,
       "border_left": null,
       "border_right": null,
       "border_top": null,
       "bottom": null,
       "display": null,
       "flex": null,
       "flex_flow": null,
       "grid_area": null,
       "grid_auto_columns": null,
       "grid_auto_flow": null,
       "grid_auto_rows": null,
       "grid_column": null,
       "grid_gap": null,
       "grid_row": null,
       "grid_template_areas": null,
       "grid_template_columns": null,
       "grid_template_rows": null,
       "height": null,
       "justify_content": null,
       "justify_items": null,
       "left": null,
       "margin": null,
       "max_height": null,
       "max_width": null,
       "min_height": null,
       "min_width": null,
       "object_fit": null,
       "object_position": null,
       "order": null,
       "overflow": null,
       "padding": null,
       "right": null,
       "top": null,
       "visibility": null,
       "width": null
      }
     },
     "30b0d09f72d24b269101a00efdcbcfa6": {
      "model_module": "@jupyter-widgets/controls",
      "model_module_version": "2.0.0",
      "model_name": "FloatProgressModel",
      "state": {
       "_dom_classes": [],
       "_model_module": "@jupyter-widgets/controls",
       "_model_module_version": "2.0.0",
       "_model_name": "FloatProgressModel",
       "_view_count": null,
       "_view_module": "@jupyter-widgets/controls",
       "_view_module_version": "2.0.0",
       "_view_name": "ProgressView",
       "bar_style": "success",
       "description": "",
       "description_allow_html": false,
       "layout": "IPY_MODEL_b77dadebd98a4f73bbf017df185a8fee",
       "max": 50.0,
       "min": 0.0,
       "orientation": "horizontal",
       "style": "IPY_MODEL_bb13da130c344efbb6ee249b60329537",
       "tabbable": null,
       "tooltip": null,
       "value": 50.0
      }
     },
     "59eaee05cc1e4573b9b3ff62327542e0": {
      "model_module": "@jupyter-widgets/controls",
      "model_module_version": "2.0.0",
      "model_name": "HTMLStyleModel",
      "state": {
       "_model_module": "@jupyter-widgets/controls",
       "_model_module_version": "2.0.0",
       "_model_name": "HTMLStyleModel",
       "_view_count": null,
       "_view_module": "@jupyter-widgets/base",
       "_view_module_version": "2.0.0",
       "_view_name": "StyleView",
       "background": null,
       "description_width": "",
       "font_size": null,
       "text_color": null
      }
     },
     "94f58324703a4d339f6722c4243315dc": {
      "model_module": "@jupyter-widgets/controls",
      "model_module_version": "2.0.0",
      "model_name": "HTMLModel",
      "state": {
       "_dom_classes": [],
       "_model_module": "@jupyter-widgets/controls",
       "_model_module_version": "2.0.0",
       "_model_name": "HTMLModel",
       "_view_count": null,
       "_view_module": "@jupyter-widgets/controls",
       "_view_module_version": "2.0.0",
       "_view_name": "HTMLView",
       "description": "",
       "description_allow_html": false,
       "layout": "IPY_MODEL_2a65526b236a4aecaec8c324f3fce925",
       "placeholder": "​",
       "style": "IPY_MODEL_59eaee05cc1e4573b9b3ff62327542e0",
       "tabbable": null,
       "tooltip": null,
       "value": "100%"
      }
     },
     "b77dadebd98a4f73bbf017df185a8fee": {
      "model_module": "@jupyter-widgets/base",
      "model_module_version": "2.0.0",
      "model_name": "LayoutModel",
      "state": {
       "_model_module": "@jupyter-widgets/base",
       "_model_module_version": "2.0.0",
       "_model_name": "LayoutModel",
       "_view_count": null,
       "_view_module": "@jupyter-widgets/base",
       "_view_module_version": "2.0.0",
       "_view_name": "LayoutView",
       "align_content": null,
       "align_items": null,
       "align_self": null,
       "border_bottom": null,
       "border_left": null,
       "border_right": null,
       "border_top": null,
       "bottom": null,
       "display": null,
       "flex": null,
       "flex_flow": null,
       "grid_area": null,
       "grid_auto_columns": null,
       "grid_auto_flow": null,
       "grid_auto_rows": null,
       "grid_column": null,
       "grid_gap": null,
       "grid_row": null,
       "grid_template_areas": null,
       "grid_template_columns": null,
       "grid_template_rows": null,
       "height": null,
       "justify_content": null,
       "justify_items": null,
       "left": null,
       "margin": null,
       "max_height": null,
       "max_width": null,
       "min_height": null,
       "min_width": null,
       "object_fit": null,
       "object_position": null,
       "order": null,
       "overflow": null,
       "padding": null,
       "right": null,
       "top": null,
       "visibility": null,
       "width": null
      }
     },
     "bb13da130c344efbb6ee249b60329537": {
      "model_module": "@jupyter-widgets/controls",
      "model_module_version": "2.0.0",
      "model_name": "ProgressStyleModel",
      "state": {
       "_model_module": "@jupyter-widgets/controls",
       "_model_module_version": "2.0.0",
       "_model_name": "ProgressStyleModel",
       "_view_count": null,
       "_view_module": "@jupyter-widgets/base",
       "_view_module_version": "2.0.0",
       "_view_name": "StyleView",
       "bar_color": null,
       "description_width": ""
      }
     },
     "bdc0b8692a4e489bad4320fc3371ca8e": {
      "model_module": "@jupyter-widgets/base",
      "model_module_version": "2.0.0",
      "model_name": "LayoutModel",
      "state": {
       "_model_module": "@jupyter-widgets/base",
       "_model_module_version": "2.0.0",
       "_model_name": "LayoutModel",
       "_view_count": null,
       "_view_module": "@jupyter-widgets/base",
       "_view_module_version": "2.0.0",
       "_view_name": "LayoutView",
       "align_content": null,
       "align_items": null,
       "align_self": null,
       "border_bottom": null,
       "border_left": null,
       "border_right": null,
       "border_top": null,
       "bottom": null,
       "display": null,
       "flex": null,
       "flex_flow": null,
       "grid_area": null,
       "grid_auto_columns": null,
       "grid_auto_flow": null,
       "grid_auto_rows": null,
       "grid_column": null,
       "grid_gap": null,
       "grid_row": null,
       "grid_template_areas": null,
       "grid_template_columns": null,
       "grid_template_rows": null,
       "height": null,
       "justify_content": null,
       "justify_items": null,
       "left": null,
       "margin": null,
       "max_height": null,
       "max_width": null,
       "min_height": null,
       "min_width": null,
       "object_fit": null,
       "object_position": null,
       "order": null,
       "overflow": null,
       "padding": null,
       "right": null,
       "top": null,
       "visibility": null,
       "width": null
      }
     },
     "c21affcd8854427cbccbb910dd86e439": {
      "model_module": "@jupyter-widgets/base",
      "model_module_version": "2.0.0",
      "model_name": "LayoutModel",
      "state": {
       "_model_module": "@jupyter-widgets/base",
       "_model_module_version": "2.0.0",
       "_model_name": "LayoutModel",
       "_view_count": null,
       "_view_module": "@jupyter-widgets/base",
       "_view_module_version": "2.0.0",
       "_view_name": "LayoutView",
       "align_content": null,
       "align_items": null,
       "align_self": null,
       "border_bottom": null,
       "border_left": null,
       "border_right": null,
       "border_top": null,
       "bottom": null,
       "display": null,
       "flex": null,
       "flex_flow": null,
       "grid_area": null,
       "grid_auto_columns": null,
       "grid_auto_flow": null,
       "grid_auto_rows": null,
       "grid_column": null,
       "grid_gap": null,
       "grid_row": null,
       "grid_template_areas": null,
       "grid_template_columns": null,
       "grid_template_rows": null,
       "height": null,
       "justify_content": null,
       "justify_items": null,
       "left": null,
       "margin": null,
       "max_height": null,
       "max_width": null,
       "min_height": null,
       "min_width": null,
       "object_fit": null,
       "object_position": null,
       "order": null,
       "overflow": null,
       "padding": null,
       "right": null,
       "top": null,
       "visibility": null,
       "width": null
      }
     },
     "c386a55c2deb4848b1e5e06a934a9e10": {
      "model_module": "@jupyter-widgets/controls",
      "model_module_version": "2.0.0",
      "model_name": "HTMLModel",
      "state": {
       "_dom_classes": [],
       "_model_module": "@jupyter-widgets/controls",
       "_model_module_version": "2.0.0",
       "_model_name": "HTMLModel",
       "_view_count": null,
       "_view_module": "@jupyter-widgets/controls",
       "_view_module_version": "2.0.0",
       "_view_name": "HTMLView",
       "description": "",
       "description_allow_html": false,
       "layout": "IPY_MODEL_bdc0b8692a4e489bad4320fc3371ca8e",
       "placeholder": "​",
       "style": "IPY_MODEL_cdd6999121564738a361f8f1d18de441",
       "tabbable": null,
       "tooltip": null,
       "value": " 50/50 [1:21:41&lt;00:00, 85.40s/it]"
      }
     },
     "cdd6999121564738a361f8f1d18de441": {
      "model_module": "@jupyter-widgets/controls",
      "model_module_version": "2.0.0",
      "model_name": "HTMLStyleModel",
      "state": {
       "_model_module": "@jupyter-widgets/controls",
       "_model_module_version": "2.0.0",
       "_model_name": "HTMLStyleModel",
       "_view_count": null,
       "_view_module": "@jupyter-widgets/base",
       "_view_module_version": "2.0.0",
       "_view_name": "StyleView",
       "background": null,
       "description_width": "",
       "font_size": null,
       "text_color": null
      }
     },
     "d811e648b3894ba7a7ad8bf72cc0e8d6": {
      "model_module": "@jupyter-widgets/controls",
      "model_module_version": "2.0.0",
      "model_name": "HBoxModel",
      "state": {
       "_dom_classes": [],
       "_model_module": "@jupyter-widgets/controls",
       "_model_module_version": "2.0.0",
       "_model_name": "HBoxModel",
       "_view_count": null,
       "_view_module": "@jupyter-widgets/controls",
       "_view_module_version": "2.0.0",
       "_view_name": "HBoxView",
       "box_style": "",
       "children": [
        "IPY_MODEL_94f58324703a4d339f6722c4243315dc",
        "IPY_MODEL_30b0d09f72d24b269101a00efdcbcfa6",
        "IPY_MODEL_c386a55c2deb4848b1e5e06a934a9e10"
       ],
       "layout": "IPY_MODEL_c21affcd8854427cbccbb910dd86e439",
       "tabbable": null,
       "tooltip": null
      }
     }
    },
    "version_major": 2,
    "version_minor": 0
   }
  }
 },
 "nbformat": 4,
 "nbformat_minor": 5
}
